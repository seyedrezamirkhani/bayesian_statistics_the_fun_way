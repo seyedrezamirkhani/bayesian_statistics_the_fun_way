{
 "cells": [
  {
   "cell_type": "markdown",
   "id": "85e6db1a",
   "metadata": {},
   "source": [
    "# Creating a Binomial Probability Distribution"
   ]
  },
  {
   "cell_type": "code",
   "execution_count": 1,
   "id": "d55f8fac",
   "metadata": {},
   "outputs": [],
   "source": [
    "from math import comb"
   ]
  },
  {
   "cell_type": "code",
   "execution_count": 2,
   "id": "679c55a6",
   "metadata": {},
   "outputs": [],
   "source": [
    "def calc_binomial_prob(k, n, p):\n",
    "    '''calculate probability mass function for binomial distribution'''\n",
    "    return comb(n, k) * (p**k) * ((1 - p)**(n - k))"
   ]
  },
  {
   "cell_type": "code",
   "execution_count": 3,
   "id": "79217fba",
   "metadata": {},
   "outputs": [],
   "source": [
    "def at_least_k(k, n, p):\n",
    "    '''calculate sum of probabilities for at least k selections from a binomial distribution'''\n",
    "    s = 0.0\n",
    "    for x in range(k, n + 1):\n",
    "        s += calc_binomial_prob(x, n, p)\n",
    "    return s"
   ]
  },
  {
   "cell_type": "code",
   "execution_count": 4,
   "id": "04bc832d",
   "metadata": {},
   "outputs": [
    {
     "name": "stdout",
     "output_type": "stream",
     "text": [
      "probability of getting at least one E.T.Jaynes card for 100 bayes bucks is: 0.515\n"
     ]
    }
   ],
   "source": [
    "# calculate probability of getting at least one\n",
    "# E.T.Jaynes card for 100 bayes bucks\n",
    "p_1 = at_least_k(1, 100, (0.0072))\n",
    "print(\n",
    "    'probability of getting at least one E.T.Jaynes card for 100 bayes bucks is: {:.3f}'\n",
    "    .format(p_1))"
   ]
  },
  {
   "cell_type": "markdown",
   "id": "c1ef628b",
   "metadata": {},
   "source": [
    "## Exercise 4"
   ]
  },
  {
   "cell_type": "code",
   "execution_count": 5,
   "id": "b7eaf2c4",
   "metadata": {},
   "outputs": [
    {
     "name": "stdout",
     "output_type": "stream",
     "text": [
      "probability of getting at least two job offers after 7 interviews is: 0.423\n"
     ]
    }
   ],
   "source": [
    "p_2 = at_least_k(2, 7, (1 / 5))\n",
    "print(\n",
    "    'probability of getting at least two job offers after 7 interviews is: {:.3f}'\n",
    "    .format(p_2))"
   ]
  },
  {
   "cell_type": "markdown",
   "id": "e994d7e9",
   "metadata": {},
   "source": [
    "## Exercise 5"
   ]
  },
  {
   "cell_type": "code",
   "execution_count": 6,
   "id": "899266ce",
   "metadata": {},
   "outputs": [
    {
     "name": "stdout",
     "output_type": "stream",
     "text": [
      "probability of getting at least two job offers after 25 interviews is: 0.729\n",
      "probability of getting two job offers after 25 interviews is not twice as much as doing 7 interviews. Stick with doing 7 interviews\n"
     ]
    }
   ],
   "source": [
    "p_3 = at_least_k(2, 25, (1 / 10))\n",
    "print(\n",
    "    'probability of getting at least two job offers after 25 interviews is: {:.3f}'\n",
    "    .format(p_3))\n",
    "\n",
    "if ((p_3 / p_2) < 2):\n",
    "    print(\n",
    "        'probability of getting two job offers after 25 interviews is not twice as much as doing 7 interviews. Stick with doing 7 interviews'\n",
    "    )\n",
    "else:\n",
    "    print(\n",
    "        'probability of getting two job offers after 25 interviews is twice as much as doing 7 interviews. Do 25 interviews'\n",
    "    )"
   ]
  },
  {
   "cell_type": "code",
   "execution_count": null,
   "id": "daf77ae4",
   "metadata": {},
   "outputs": [],
   "source": []
  }
 ],
 "metadata": {
  "kernelspec": {
   "display_name": "Python 3 (ipykernel)",
   "language": "python",
   "name": "python3"
  },
  "language_info": {
   "codemirror_mode": {
    "name": "ipython",
    "version": 3
   },
   "file_extension": ".py",
   "mimetype": "text/x-python",
   "name": "python",
   "nbconvert_exporter": "python",
   "pygments_lexer": "ipython3",
   "version": "3.10.6"
  }
 },
 "nbformat": 4,
 "nbformat_minor": 5
}
