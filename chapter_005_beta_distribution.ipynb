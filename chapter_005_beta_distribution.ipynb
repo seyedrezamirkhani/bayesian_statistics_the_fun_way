{
 "cells": [
  {
   "cell_type": "code",
   "execution_count": 1,
   "id": "da1d0917",
   "metadata": {},
   "outputs": [],
   "source": [
    "from scipy.stats import beta"
   ]
  },
  {
   "cell_type": "markdown",
   "id": "f06e3155",
   "metadata": {},
   "source": [
    "https://docs.scipy.org/doc/scipy/reference/generated/scipy.stats.beta.html#scipy-stats-beta"
   ]
  },
  {
   "cell_type": "markdown",
   "id": "c89d9efb",
   "metadata": {},
   "source": [
    "The **cdf** function of the **beta** class is the Cumulative density function for the Beta Distribution"
   ]
  },
  {
   "cell_type": "markdown",
   "id": "5425c8ec",
   "metadata": {},
   "source": [
    "# Exercise 1"
   ]
  },
  {
   "cell_type": "code",
   "execution_count": 2,
   "id": "95df510c",
   "metadata": {},
   "outputs": [
    {
     "name": "stdout",
     "output_type": "stream",
     "text": [
      "probability the coin will land on heads more than 60% of time 0.166\n"
     ]
    }
   ],
   "source": [
    "ex_alpha = 5\n",
    "ex_beta = 6\n",
    "\n",
    "result = beta.cdf(x=1.0, a=ex_alpha, b=ex_beta) - beta.cdf(x=0.6, a=ex_alpha, b=ex_beta)\n",
    "\n",
    "print(\"probability the coin will land on heads more than 60% of time {:0.3f}\".format(result))\n"
   ]
  },
  {
   "cell_type": "markdown",
   "id": "5013e7d5",
   "metadata": {},
   "source": [
    "# Exercise 2"
   ]
  },
  {
   "cell_type": "markdown",
   "id": "f73a0702",
   "metadata": {},
   "source": [
    "A fair coin lands on heads and tails equally"
   ]
  },
  {
   "cell_type": "code",
   "execution_count": 3,
   "id": "a814c729",
   "metadata": {},
   "outputs": [
    {
     "name": "stdout",
     "output_type": "stream",
     "text": [
      "probability the coin is fair give or take 5 percent 0.310\n"
     ]
    }
   ],
   "source": [
    "ex_alpha = 9\n",
    "ex_beta = 11\n",
    "\n",
    "result = beta.cdf(x=0.55, a=ex_alpha, b=ex_beta) - beta.cdf(x=0.45, a=ex_alpha, b=ex_beta)\n",
    "\n",
    "print(\"probability the coin is fair give or take 5 percent {:0.3f}\".format(result))"
   ]
  },
  {
   "cell_type": "markdown",
   "id": "b3697496",
   "metadata": {},
   "source": [
    "# Exercise 3"
   ]
  },
  {
   "cell_type": "markdown",
   "id": "99c05ea0",
   "metadata": {},
   "source": [
    "A fair coin lands on heads and tails equally"
   ]
  },
  {
   "cell_type": "code",
   "execution_count": 4,
   "id": "90be2160",
   "metadata": {},
   "outputs": [
    {
     "name": "stdout",
     "output_type": "stream",
     "text": [
      "probability the coin is fair give or take 5 percent 0.859\n"
     ]
    }
   ],
   "source": [
    "ex_alpha = 109\n",
    "ex_beta = 111\n",
    "\n",
    "result = beta.cdf(x=0.55, a=ex_alpha, b=ex_beta) - beta.cdf(x=0.45, a=ex_alpha, b=ex_beta)\n",
    "\n",
    "print(\"probability the coin is fair give or take 5 percent {:0.3f}\".format(result))"
   ]
  },
  {
   "cell_type": "code",
   "execution_count": 5,
   "id": "0eb0e5a7",
   "metadata": {},
   "outputs": [
    {
     "data": {
      "text/plain": [
       "0.8589371426532765"
      ]
     },
     "execution_count": 5,
     "metadata": {},
     "output_type": "execute_result"
    }
   ],
   "source": [
    "result"
   ]
  },
  {
   "cell_type": "code",
   "execution_count": null,
   "id": "e61ad93b",
   "metadata": {},
   "outputs": [],
   "source": []
  }
 ],
 "metadata": {
  "kernelspec": {
   "display_name": "Python 3 (ipykernel)",
   "language": "python",
   "name": "python3"
  },
  "language_info": {
   "codemirror_mode": {
    "name": "ipython",
    "version": 3
   },
   "file_extension": ".py",
   "mimetype": "text/x-python",
   "name": "python",
   "nbconvert_exporter": "python",
   "pygments_lexer": "ipython3",
   "version": "3.10.6"
  }
 },
 "nbformat": 4,
 "nbformat_minor": 5
}
