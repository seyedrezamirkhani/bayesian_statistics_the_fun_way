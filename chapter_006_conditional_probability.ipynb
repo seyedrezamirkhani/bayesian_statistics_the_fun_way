{
 "cells": [
  {
   "cell_type": "markdown",
   "id": "1de9f40c",
   "metadata": {},
   "source": [
    "Product Rule with conditional independence\n",
    "\n",
    "P(A,B) = P(A) * P(B|A)"
   ]
  },
  {
   "cell_type": "markdown",
   "id": "f6929b29",
   "metadata": {},
   "source": [
    "Sum Rule with conditional independence\n",
    "\n",
    "P(A or B) = P(A) + P(B) - P(A) * P(B|A)"
   ]
  },
  {
   "cell_type": "markdown",
   "id": "2b8b2af1",
   "metadata": {},
   "source": [
    "Bayes's Theorem\n",
    "\n",
    "P(A|B) = P(A) * P(B|A) / P(B)"
   ]
  },
  {
   "cell_type": "markdown",
   "id": "3e0354f4",
   "metadata": {},
   "source": [
    "# Given"
   ]
  },
  {
   "cell_type": "markdown",
   "id": "74d6e157",
   "metadata": {},
   "source": [
    "Using the following acronyms:\n",
    "\n",
    "CB -> Colour Blind\n",
    "\n",
    "vac -> flu vaccine\n",
    "\n",
    "GBS -> Guillain Barre Syndrome\n",
    "\n",
    "---\n",
    "\n",
    "P(CB) = 0.0425\n",
    "\n",
    "P(CB | female) = 0.005\n",
    "\n",
    "P(CB | male) = 0.08\n",
    "\n",
    "P(female) = 0.5\n",
    "\n",
    "P(male) = 0.5\n",
    "\n",
    "P(GBS) = 2 / 100,000 or 2e-05\n",
    "\n",
    "P(GBS | vac) = 3 / 100,000 or 3e-05"
   ]
  },
  {
   "cell_type": "markdown",
   "id": "8645e551",
   "metadata": {},
   "source": [
    "# Exercise 1"
   ]
  },
  {
   "cell_type": "markdown",
   "id": "2d2606e2",
   "metadata": {},
   "source": [
    "P(vac | GBS) = P(vac) * P(GBS | vac) / P(GBS)\n",
    "\n",
    "We need P(vac) to be supplied in order calculate probability of P(vac | GBS)"
   ]
  },
  {
   "cell_type": "markdown",
   "id": "a7d9c062",
   "metadata": {},
   "source": [
    "# Exercise 2"
   ]
  },
  {
   "cell_type": "markdown",
   "id": "0b40b164",
   "metadata": {},
   "source": [
    "What is the probability that a random person picked from the population is female and is *not* colour blind?"
   ]
  },
  {
   "cell_type": "markdown",
   "id": "7ba1bb53",
   "metadata": {},
   "source": [
    "Using the Product Rule\n",
    "\n",
    "P(female|Not CB) = P(female) * P(Not CB|female)"
   ]
  },
  {
   "cell_type": "markdown",
   "id": "1cb22d7c",
   "metadata": {},
   "source": [
    "P(Not CB|female) = 1 - P(CB | female)\n",
    "                 = 1 - 0.005\n",
    "                 = 0.995"
   ]
  },
  {
   "cell_type": "markdown",
   "id": "24066f6b",
   "metadata": {},
   "source": [
    "P(female|Not CB)  = 0.5 * 0.995"
   ]
  },
  {
   "cell_type": "code",
   "execution_count": 1,
   "id": "2fd5ed4d",
   "metadata": {},
   "outputs": [
    {
     "name": "stdout",
     "output_type": "stream",
     "text": [
      "0.4975\n"
     ]
    }
   ],
   "source": [
    "print(0.5 * 0.995)"
   ]
  },
  {
   "cell_type": "markdown",
   "id": "9c7623ce",
   "metadata": {},
   "source": [
    "# Exercise 3"
   ]
  },
  {
   "cell_type": "markdown",
   "id": "0c632969",
   "metadata": {},
   "source": [
    "What is the probability that a male who received the flu vaccine in 2010 is either colour blind or has GBS?"
   ]
  },
  {
   "cell_type": "markdown",
   "id": "f199d737",
   "metadata": {},
   "source": [
    "P(A) = P(CB | male)\n",
    "\n",
    "P(B) = P(GBS | vac)\n",
    "\n",
    "We can use the Sum Rule with the assumption that P(CB) is independent of P(GBS) therefore:\n",
    "\n",
    "P(B | A) = P(B)\n",
    "\n",
    "resulting in:\n",
    "\n",
    "P(A or B) = P(A) + P(B) - P(A) * P(B)\n",
    "\n",
    "where:\n",
    "\n",
    "P(A) = 0.08\n",
    "P(B) = 3e-05\n"
   ]
  },
  {
   "cell_type": "code",
   "execution_count": 2,
   "id": "53493f66",
   "metadata": {},
   "outputs": [
    {
     "name": "stdout",
     "output_type": "stream",
     "text": [
      "0.0800276\n"
     ]
    }
   ],
   "source": [
    "print((0.08 + 3e-05) - (0.08 * 3e-05)\n",
    "     )"
   ]
  },
  {
   "cell_type": "code",
   "execution_count": null,
   "id": "db124b71",
   "metadata": {},
   "outputs": [],
   "source": []
  }
 ],
 "metadata": {
  "kernelspec": {
   "display_name": "Python 3 (ipykernel)",
   "language": "python",
   "name": "python3"
  },
  "language_info": {
   "codemirror_mode": {
    "name": "ipython",
    "version": 3
   },
   "file_extension": ".py",
   "mimetype": "text/x-python",
   "name": "python",
   "nbconvert_exporter": "python",
   "pygments_lexer": "ipython3",
   "version": "3.10.6"
  }
 },
 "nbformat": 4,
 "nbformat_minor": 5
}
