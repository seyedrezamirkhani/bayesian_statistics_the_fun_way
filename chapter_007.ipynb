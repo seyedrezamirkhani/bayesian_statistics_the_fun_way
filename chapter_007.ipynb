{
 "cells": [
  {
   "cell_type": "markdown",
   "id": "92e7f255",
   "metadata": {},
   "source": [
    "# Bayes' Theorem with Lego"
   ]
  },
  {
   "cell_type": "markdown",
   "id": "1de9f40c",
   "metadata": {},
   "source": [
    "Product Rule with conditional independence\n",
    "\n",
    "P(A,B) = P(A) * P(B|A)"
   ]
  },
  {
   "cell_type": "markdown",
   "id": "f6929b29",
   "metadata": {},
   "source": [
    "Sum Rule with conditional independence\n",
    "\n",
    "P(A or B) = P(A) + P(B) - P(A) * P(B|A)"
   ]
  },
  {
   "cell_type": "markdown",
   "id": "2b8b2af1",
   "metadata": {},
   "source": [
    "Bayes's Theorem\n",
    "\n",
    "P(A|B) = P(A) * P(B|A) / P(B)"
   ]
  },
  {
   "cell_type": "markdown",
   "id": "8645e551",
   "metadata": {},
   "source": [
    "# Exercise 1"
   ]
  },
  {
   "cell_type": "markdown",
   "id": "7554f8cd",
   "metadata": {},
   "source": [
    "Kansas City, sits on the border of two US states: Missouri and Kansas.\n",
    "\n",
    "Kansas City consists of 15 counties, 9 in Missouri and 6 in Kansas.\n",
    "\n",
    "Kansas has 105 and Missouri has 114 counties in total."
   ]
  },
  {
   "cell_type": "markdown",
   "id": "2d2606e2",
   "metadata": {},
   "source": [
    "Calculate the probability that a relative who just moved to a county in Kansas City also lives in a county in Kansas."
   ]
  },
  {
   "cell_type": "markdown",
   "id": "4b993de2",
   "metadata": {},
   "source": [
    "Assuming the relative either lives in Kansas or Missouri"
   ]
  },
  {
   "cell_type": "markdown",
   "id": "c3ddf5c5",
   "metadata": {},
   "source": [
    "P(Kansas | Kansas City) = P(Kansas) * P(Kansas City | Kansas) / P (Kansas City)"
   ]
  },
  {
   "cell_type": "markdown",
   "id": "e5e9f11d",
   "metadata": {},
   "source": [
    "P(Kansas) = 105 / (105 + 114)"
   ]
  },
  {
   "cell_type": "markdown",
   "id": "26c3ea2f",
   "metadata": {},
   "source": [
    "P(Kansas City) = 15 / (105 + 114)"
   ]
  },
  {
   "cell_type": "markdown",
   "id": "c9f1f6ba",
   "metadata": {},
   "source": [
    "P(Kansas City | Kansas) = 6 / 105"
   ]
  },
  {
   "cell_type": "markdown",
   "id": "b9e6a6da",
   "metadata": {},
   "source": [
    "**Answer:**\n",
    "\n",
    "**P(Kansas | Kansas City) = 2/5**"
   ]
  },
  {
   "cell_type": "markdown",
   "id": "a7d9c062",
   "metadata": {},
   "source": [
    "# Exercise 2"
   ]
  },
  {
   "cell_type": "markdown",
   "id": "0b40b164",
   "metadata": {},
   "source": [
    "A deck of cards has 52 cards.\n",
    "\n",
    "A red ace is removed from the deck and the deck is shuffled.\n",
    "\n",
    "A friend pulls a black card.\n",
    "\n",
    "What is the probability that it is an ace?"
   ]
  },
  {
   "cell_type": "markdown",
   "id": "7ba1bb53",
   "metadata": {},
   "source": [
    "P(Ace | Black) = P(Ace) * P(Black | Ace) / P(Black)"
   ]
  },
  {
   "cell_type": "markdown",
   "id": "1cb22d7c",
   "metadata": {},
   "source": [
    "P(Ace) = 3/51"
   ]
  },
  {
   "cell_type": "markdown",
   "id": "24066f6b",
   "metadata": {},
   "source": [
    "P(Black) = 26/51"
   ]
  },
  {
   "cell_type": "markdown",
   "id": "a088a051",
   "metadata": {},
   "source": [
    "P(Black | Ace) = 2/3"
   ]
  },
  {
   "cell_type": "markdown",
   "id": "eeb8b15d",
   "metadata": {},
   "source": [
    "**Answer:**\n",
    "\n",
    "**P(Ace | Black) = 1/13**"
   ]
  },
  {
   "cell_type": "code",
   "execution_count": null,
   "id": "56a1dad1",
   "metadata": {},
   "outputs": [],
   "source": []
  }
 ],
 "metadata": {
  "kernelspec": {
   "display_name": "Python 3 (ipykernel)",
   "language": "python",
   "name": "python3"
  },
  "language_info": {
   "codemirror_mode": {
    "name": "ipython",
    "version": 3
   },
   "file_extension": ".py",
   "mimetype": "text/x-python",
   "name": "python",
   "nbconvert_exporter": "python",
   "pygments_lexer": "ipython3",
   "version": "3.10.6"
  }
 },
 "nbformat": 4,
 "nbformat_minor": 5
}
