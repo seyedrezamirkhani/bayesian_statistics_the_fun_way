{
 "cells": [
  {
   "cell_type": "markdown",
   "id": "92e7f255",
   "metadata": {},
   "source": [
    "# The Prior, Likelihood, and Posterior of Bayes' Theorem"
   ]
  },
  {
   "cell_type": "markdown",
   "id": "2b8b2af1",
   "metadata": {},
   "source": [
    "Bayes's Theorem\n",
    "\n",
    "P(A|B) = P(A) * P(B|A) / P(B)"
   ]
  },
  {
   "cell_type": "markdown",
   "id": "0404bb19",
   "metadata": {},
   "source": [
    "When we don't know P(B) we can compare two Hypothesis as a ratio of each other"
   ]
  },
  {
   "cell_type": "markdown",
   "id": "ca77699d",
   "metadata": {},
   "source": [
    "Where H stands for Hypothesis\n",
    "\n",
    "P(H1|B) = P(A) * P(B|H1)\n",
    "\n",
    "vs\n",
    "\n",
    "P(H2|B) = P(A) * P(B|H2)"
   ]
  },
  {
   "cell_type": "markdown",
   "id": "8645e551",
   "metadata": {},
   "source": [
    "# Exercise 1"
   ]
  },
  {
   "cell_type": "markdown",
   "id": "7554f8cd",
   "metadata": {},
   "source": [
    "How much does changing the probability P(broken window, open front door, missing laptop | robbed) from 3/10 to 3/100 affect our strength in believing H1 over H2?"
   ]
  },
  {
   "cell_type": "markdown",
   "id": "68961521",
   "metadata": {},
   "source": [
    "<table>\n",
    "    <tr>\n",
    "        <td>\n",
    "            P(H1) * P (D|H1)\n",
    "        </td>\n",
    "        <td></td>\n",
    "        <td>\n",
    "            (1/1000 * <font color='red'>3/10</font>)\n",
    "        </td>\n",
    "    </tr>\n",
    "    <tr>\n",
    "        <td>\n",
    "            <hr>\n",
    "        </td>\n",
    "        <td>\n",
    "            =\n",
    "        </td>\n",
    "        <td>\n",
    "            <hr>\n",
    "        </td>\n",
    "    </tr>\n",
    "    <tr>\n",
    "        <td>\n",
    "            P(H2) * P (D|H2)\n",
    "        </td>\n",
    "        <td></td>\n",
    "        <td>\n",
    "            1/21,900,000\n",
    "        </td>\n",
    "    </tr>\n",
    "</table>"
   ]
  },
  {
   "cell_type": "markdown",
   "id": "2dc6bb81",
   "metadata": {},
   "source": [
    "= 6570"
   ]
  },
  {
   "cell_type": "markdown",
   "id": "37b67471",
   "metadata": {},
   "source": [
    "<table>\n",
    "    <tr>\n",
    "        <td>\n",
    "            P(H1) * P (D|H1)\n",
    "        </td>\n",
    "        <td></td>\n",
    "        <td>\n",
    "            (1/1000 * <font color='red'>3/100</font>)\n",
    "        </td>\n",
    "    </tr>\n",
    "    <tr>\n",
    "        <td>\n",
    "            <hr>\n",
    "        </td>\n",
    "        <td>\n",
    "            =\n",
    "        </td>\n",
    "        <td>\n",
    "            <hr>\n",
    "        </td>\n",
    "    </tr>\n",
    "    <tr>\n",
    "        <td>\n",
    "            P(H2) * P (D|H2)\n",
    "        </td>\n",
    "        <td></td>\n",
    "        <td>\n",
    "            1/21,900,000\n",
    "        </td>\n",
    "    </tr>\n",
    "</table>"
   ]
  },
  {
   "cell_type": "markdown",
   "id": "a917cccd",
   "metadata": {},
   "source": [
    "= 657"
   ]
  },
  {
   "cell_type": "markdown",
   "id": "ae7def6c",
   "metadata": {},
   "source": [
    "So when we believe (D|H1) is ten times less likely, our ratio is ten times smaller"
   ]
  },
  {
   "cell_type": "markdown",
   "id": "a7d9c062",
   "metadata": {},
   "source": [
    "# Exercise 2"
   ]
  },
  {
   "cell_type": "markdown",
   "id": "0b40b164",
   "metadata": {},
   "source": [
    "How unlikely would you have to belive being robbed is - our prior for H1 - in order for the ratio of H1 to H2 to be even?"
   ]
  },
  {
   "cell_type": "markdown",
   "id": "7ba1bb53",
   "metadata": {},
   "source": [
    "So we need to make P(H1) 657 times smaller"
   ]
  },
  {
   "cell_type": "markdown",
   "id": "79abfbd6",
   "metadata": {},
   "source": [
    "<table>    \n",
    "    <tr>\n",
    "        <td>\n",
    "            P(H1) * P (D|H1)\n",
    "        </td>\n",
    "        <td></td>\n",
    "        <td>\n",
    "            (1/1000 * <font color='red'>657</font>) * (3/100)\n",
    "        </td>\n",
    "    </tr>\n",
    "    <tr>\n",
    "        <td>\n",
    "            <hr>\n",
    "        </td>\n",
    "        <td>\n",
    "            =\n",
    "        </td>\n",
    "        <td>\n",
    "            <hr>\n",
    "        </td>\n",
    "    </tr>\n",
    "    <tr>\n",
    "        <td>\n",
    "            P(H2) * P (D|H2)\n",
    "        </td>\n",
    "        <td></td>\n",
    "        <td>\n",
    "            1/21,900,000\n",
    "        </td>\n",
    "    </tr>\n",
    "</table>"
   ]
  },
  {
   "cell_type": "markdown",
   "id": "24066f6b",
   "metadata": {},
   "source": [
    "= 1"
   ]
  },
  {
   "cell_type": "markdown",
   "id": "a8f65d08",
   "metadata": {},
   "source": [
    "So P(H1) would be 1/657,000"
   ]
  },
  {
   "cell_type": "code",
   "execution_count": null,
   "id": "f224f41f",
   "metadata": {},
   "outputs": [],
   "source": []
  }
 ],
 "metadata": {
  "kernelspec": {
   "display_name": "Python 3 (ipykernel)",
   "language": "python",
   "name": "python3"
  },
  "language_info": {
   "codemirror_mode": {
    "name": "ipython",
    "version": 3
   },
   "file_extension": ".py",
   "mimetype": "text/x-python",
   "name": "python",
   "nbconvert_exporter": "python",
   "pygments_lexer": "ipython3",
   "version": "3.10.6"
  }
 },
 "nbformat": 4,
 "nbformat_minor": 5
}
