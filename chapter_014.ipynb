{
 "cells": [
  {
   "cell_type": "markdown",
   "id": "92e7f255",
   "metadata": {},
   "source": [
    "# Parameter Estimation with Prior Probablilities"
   ]
  },
  {
   "cell_type": "code",
   "execution_count": 1,
   "id": "421a7a26",
   "metadata": {},
   "outputs": [],
   "source": [
    "import pandas as pd\n",
    "import numpy as np"
   ]
  },
  {
   "cell_type": "code",
   "execution_count": 2,
   "id": "59d018cb",
   "metadata": {},
   "outputs": [],
   "source": [
    "from scipy.stats import norm, beta"
   ]
  },
  {
   "cell_type": "markdown",
   "id": "8645e551",
   "metadata": {},
   "source": [
    "# Exercise 1"
   ]
  },
  {
   "cell_type": "markdown",
   "id": "c3b000d0",
   "metadata": {},
   "source": [
    "<b>\n",
    "You are playing airhockey with some friends and flip a coin to see who starts with the puck. After playing 12 times, you realize that the friend who brings the coing almost always seems to go first: 9 out of 12 times.\n",
    "\n",
    "Some of your other friends start to get suspicious. Define prior probability distributions for the following beliefs:\n",
    "\n",
    "- 1.1 One person who weakly believes that the friend is cheating and the true rate of coming up with heads is closer to 70 percent\n",
    "\n",
    "- 1.2 One person who very strongly trusts that the coin is fair and provided a 50 percent chance of coming up with heads\n",
    "\n",
    "- 1.3 One person who strongly believes the coin is biased to come up heads 70 percent of the time\n",
    "</b>"
   ]
  },
  {
   "cell_type": "markdown",
   "id": "84203dab",
   "metadata": {},
   "source": [
    "1.1 A weak belief can be represented by Beta(7, 3)"
   ]
  },
  {
   "cell_type": "markdown",
   "id": "2f3ae341",
   "metadata": {},
   "source": [
    "1.2 A strong belief in a fair count can be represented by Beta(5000, 5000)"
   ]
  },
  {
   "cell_type": "markdown",
   "id": "455e3a98",
   "metadata": {},
   "source": [
    "1.3 A strong belief in a biased coint with heads 70 percent of the time can be represented by Beta(70, 30)"
   ]
  },
  {
   "cell_type": "markdown",
   "id": "adb426a0",
   "metadata": {},
   "source": [
    "# Exercise 2"
   ]
  },
  {
   "cell_type": "markdown",
   "id": "2bcd763f",
   "metadata": {},
   "source": [
    "**To test the coin, you flip it 20 more times and get 9 heads and 11 tails. Using priors you calculated in the previous question, what are the updated posterior beliefs in the true rateof flipping a heads in terms of the 95 percent confidence interval?**"
   ]
  },
  {
   "cell_type": "markdown",
   "id": "fb7e6807",
   "metadata": {},
   "source": [
    "So now we have 32 observations which includes 18 heads and 14 tails"
   ]
  },
  {
   "cell_type": "markdown",
   "id": "fff4b532",
   "metadata": {},
   "source": [
    "For each part of Q1 we need to merge the observed Beta distribution with the Prior Belief distribution"
   ]
  },
  {
   "cell_type": "markdown",
   "id": "8a9c5e19",
   "metadata": {},
   "source": [
    "Beta(&alpha;<sub>posterior</sub>, &beta;<sub>posterior</sub>) = Beta(&alpha;<sub>likelihood</sub> + &alpha;<sub>prior</sub>, &beta;<sub>likelihood</sub> + &beta;<sub>prior</sub>)"
   ]
  },
  {
   "cell_type": "markdown",
   "id": "0c8eee91",
   "metadata": {},
   "source": [
    "Where \n",
    "\n",
    "&alpha;<sub>likelihood</sub> = 18\n",
    "&beta;<sub>likelihood</sub> = 14\n"
   ]
  },
  {
   "cell_type": "code",
   "execution_count": 3,
   "id": "8733bc0f",
   "metadata": {},
   "outputs": [],
   "source": [
    "def calc_conf_interval_pct(conf):\n",
    "    conf_mid = (1 - conf) / 2\n",
    "    lower_conf = conf_mid\n",
    "    upper_conf = 1 - conf_mid\n",
    "    return lower_conf, upper_conf"
   ]
  },
  {
   "cell_type": "code",
   "execution_count": 4,
   "id": "cb9cc998",
   "metadata": {},
   "outputs": [],
   "source": [
    "def calc_conf_interval_prob(q_alpha, q_beta, lower_conf, upper_conf):\n",
    "    lower_p = beta.ppf(lower_conf, a=q_alpha, b=q_beta)\n",
    "    upper_p = beta.ppf(upper_conf, a=q_alpha, b=q_beta)\n",
    "    return lower_p, upper_p"
   ]
  },
  {
   "cell_type": "code",
   "execution_count": 5,
   "id": "393e134c",
   "metadata": {},
   "outputs": [
    {
     "name": "stdout",
     "output_type": "stream",
     "text": [
      "lower confidence level 0.0250\n",
      "upper confidence level 0.9750\n"
     ]
    }
   ],
   "source": [
    "conf = 0.95\n",
    "lower_conf, upper_conf = calc_conf_interval_pct(conf)\n",
    "print('lower confidence level {:.4f}'.format(lower_conf))\n",
    "print('upper confidence level {:.4f}'.format(upper_conf))"
   ]
  },
  {
   "cell_type": "markdown",
   "id": "5470c835",
   "metadata": {},
   "source": [
    "**For Q1.1 we have Beta(7, 3)**"
   ]
  },
  {
   "cell_type": "markdown",
   "id": "e46f2cec",
   "metadata": {},
   "source": [
    "&alpha;<sub>prior</sub> = 7\n",
    "&beta;<sub>prior</sub> = 3"
   ]
  },
  {
   "cell_type": "markdown",
   "id": "411d0acc",
   "metadata": {},
   "source": [
    "Therefore\n",
    "\n",
    "Beta(&alpha;<sub>posterior</sub>, &beta;<sub>posterior</sub>) = ((18 + 7), (14 + 3))\n",
    "\n",
    "Beta(&alpha;<sub>posterior</sub>, &beta;<sub>posterior</sub>) = (25, 17)"
   ]
  },
  {
   "cell_type": "code",
   "execution_count": 6,
   "id": "35bf992d",
   "metadata": {},
   "outputs": [
    {
     "name": "stdout",
     "output_type": "stream",
     "text": [
      "lower confidence prob 0.4450\n",
      "upper confidence prob 0.7368\n"
     ]
    }
   ],
   "source": [
    "q_alpha = 18 + 7\n",
    "q_beta = 14 + 3\n",
    "\n",
    "lower_p, upper_p = calc_conf_interval_prob(q_alpha, q_beta, lower_conf, upper_conf)\n",
    "\n",
    "print('lower confidence prob {:.4f}'.format(lower_p))\n",
    "print('upper confidence prob {:.4f}'.format(upper_p))"
   ]
  },
  {
   "cell_type": "markdown",
   "id": "8236c63f",
   "metadata": {},
   "source": [
    "**For Q1.2 we have Beta(5000, 5000)**"
   ]
  },
  {
   "cell_type": "markdown",
   "id": "65fc1584",
   "metadata": {},
   "source": [
    "&alpha;<sub>prior</sub> = 5000\n",
    "&beta;<sub>prior</sub> = 5000"
   ]
  },
  {
   "cell_type": "markdown",
   "id": "b0d1a016",
   "metadata": {},
   "source": [
    "Therefore\n",
    "\n",
    "Beta(&alpha;<sub>posterior</sub>, &beta;<sub>posterior</sub>) = ((18 + 5000), (14 + 5000))\n",
    "\n",
    "Beta(&alpha;<sub>posterior</sub>, &beta;<sub>posterior</sub>) = (5018, 5014)"
   ]
  },
  {
   "cell_type": "code",
   "execution_count": 7,
   "id": "5586dc2b",
   "metadata": {},
   "outputs": [
    {
     "name": "stdout",
     "output_type": "stream",
     "text": [
      "lower confidence prob 0.4904\n",
      "upper confidence prob 0.5100\n"
     ]
    }
   ],
   "source": [
    "q_alpha = 18 + 5000\n",
    "q_beta = 14 + 5000\n",
    "\n",
    "lower_p, upper_p = calc_conf_interval_prob(q_alpha, q_beta, lower_conf, upper_conf)\n",
    "\n",
    "print('lower confidence prob {:.4f}'.format(lower_p))\n",
    "print('upper confidence prob {:.4f}'.format(upper_p))"
   ]
  },
  {
   "cell_type": "markdown",
   "id": "154ea9fb",
   "metadata": {},
   "source": [
    "**For Q1.3 we have Beta(70, 30)**"
   ]
  },
  {
   "cell_type": "markdown",
   "id": "5a1d99d2",
   "metadata": {},
   "source": [
    "&alpha;<sub>prior</sub> = 70\n",
    "&beta;<sub>prior</sub> = 30"
   ]
  },
  {
   "cell_type": "markdown",
   "id": "470fc874",
   "metadata": {},
   "source": [
    "Therefore\n",
    "\n",
    "Beta(&alpha;<sub>posterior</sub>, &beta;<sub>posterior</sub>) = ((18 + 70), (14 + 30))\n",
    "\n",
    "Beta(&alpha;<sub>posterior</sub>, &beta;<sub>posterior</sub>) = (88, 44)"
   ]
  },
  {
   "cell_type": "code",
   "execution_count": 8,
   "id": "d4128b20",
   "metadata": {},
   "outputs": [
    {
     "name": "stdout",
     "output_type": "stream",
     "text": [
      "lower confidence prob 0.5843\n",
      "upper confidence prob 0.7442\n"
     ]
    }
   ],
   "source": [
    "q_alpha = 18 + 70\n",
    "q_beta = 14 + 30\n",
    "\n",
    "lower_p, upper_p = calc_conf_interval_prob(q_alpha, q_beta, lower_conf, upper_conf)\n",
    "\n",
    "print('lower confidence prob {:.4f}'.format(lower_p))\n",
    "print('upper confidence prob {:.4f}'.format(upper_p))"
   ]
  },
  {
   "cell_type": "code",
   "execution_count": null,
   "id": "63be3f8f",
   "metadata": {},
   "outputs": [],
   "source": []
  }
 ],
 "metadata": {
  "kernelspec": {
   "display_name": "Python 3 (ipykernel)",
   "language": "python",
   "name": "python3"
  },
  "language_info": {
   "codemirror_mode": {
    "name": "ipython",
    "version": 3
   },
   "file_extension": ".py",
   "mimetype": "text/x-python",
   "name": "python",
   "nbconvert_exporter": "python",
   "pygments_lexer": "ipython3",
   "version": "3.10.6"
  }
 },
 "nbformat": 4,
 "nbformat_minor": 5
}
