{
 "cells": [
  {
   "cell_type": "markdown",
   "id": "92e7f255",
   "metadata": {},
   "source": [
    "# Introduction to the Bayes Factor and Posterior Odds:\n",
    "# The Completion of Ideas"
   ]
  },
  {
   "cell_type": "code",
   "execution_count": 1,
   "id": "421a7a26",
   "metadata": {},
   "outputs": [],
   "source": [
    "import pandas as pd\n",
    "import numpy as np\n",
    "from matplotlib import pyplot as plt"
   ]
  },
  {
   "cell_type": "code",
   "execution_count": 2,
   "id": "59d018cb",
   "metadata": {},
   "outputs": [],
   "source": [
    "from scipy.stats import norm, beta, uniform"
   ]
  },
  {
   "cell_type": "markdown",
   "id": "8645e551",
   "metadata": {},
   "source": [
    "# Exercise 1"
   ]
  },
  {
   "cell_type": "markdown",
   "id": "c3b000d0",
   "metadata": {},
   "source": [
    "<b>\n",
    "In the dice problem, assume your friend made a mistakeand suddenly realized that there were, in fact, two loaded dice and only one fair die. How does this change the prior, and therefore the posterior odds, for our problem?\n",
    "    \n",
    "Are you more willing to believe that the die being rolled is the loaded die?\n",
    "</b>"
   ]
  },
  {
   "cell_type": "markdown",
   "id": "58046a19",
   "metadata": {},
   "source": [
    "We have a change in the prior odds. Now:\n",
    "\n",
    "P(H<sub>1</sub>) = 2/3\n",
    "\n",
    "P(H<sub>2</sub>) = 1/3\n"
   ]
  },
  {
   "cell_type": "markdown",
   "id": "76a1f28f",
   "metadata": {},
   "source": [
    "Our pior odds becomes:\n",
    "\n",
    "O(H<sub>1</sub>) = P(H<sub>1</sub>) / P(H<sub>2</sub>) = <sup>2/3</sup> / <sub>1/3</sub> = 2"
   ]
  },
  {
   "cell_type": "markdown",
   "id": "a1669244",
   "metadata": {},
   "source": [
    "posterior odds = O(H<sub>1</sub>) * <sup>P(D|H<sub>1</sub>)</sup> / <sub>P(D|H<sub>2</sub>)</sub>"
   ]
  },
  {
   "cell_type": "code",
   "execution_count": 2,
   "id": "10ac19ce",
   "metadata": {},
   "outputs": [
    {
     "data": {
      "text/plain": [
       "7.54"
      ]
     },
     "execution_count": 2,
     "metadata": {},
     "output_type": "execute_result"
    }
   ],
   "source": [
    "2 * 3.77"
   ]
  },
  {
   "cell_type": "markdown",
   "id": "c3436f64",
   "metadata": {},
   "source": [
    "I am more willing to believe the die being rolled is a loded die. However the posterior odds are not very high, more evidence will help to make a better decision"
   ]
  },
  {
   "cell_type": "markdown",
   "id": "02cdd105",
   "metadata": {},
   "source": [
    "# Exercise 2"
   ]
  },
  {
   "cell_type": "markdown",
   "id": "b4e6569b",
   "metadata": {},
   "source": [
    "Suppose you go to the doctor, and after having your ears cleaned you notice that your symptoms of hearing loss and tinnitus persist. Even worse, you have a new symptom: vertigo. The doctor proposes another possible explanation, **labyrinthitis**, which is a viral infection of the inner ear in which 98 percent of cases involve vertigo."
   ]
  },
  {
   "cell_type": "markdown",
   "id": "11796676",
   "metadata": {},
   "source": [
    "Howerver, hearing loss and tinnitus are less common in this disease; hearing loss occurs only 30 percent of the time, and tinnitus occurs only 28 percent of the time. Vertigo is also a possible symptom of vestibular schwanoma, but occurs in only 49 percent of cases."
   ]
  },
  {
   "cell_type": "markdown",
   "id": "8e05385a",
   "metadata": {},
   "source": [
    "In the general population, 35 people per million contract labyrinthitis annually."
   ]
  },
  {
   "cell_type": "markdown",
   "id": "1f8e5f21",
   "metadata": {},
   "source": [
    "What is the posterior odds when you compare the hypothesis that you have labyrinthitis against the hypothesis that you have vestibular schwannoma?"
   ]
  },
  {
   "cell_type": "markdown",
   "id": "5debc2c5",
   "metadata": {},
   "source": [
    "H<sub>1</sub> = labyrinthitis"
   ]
  },
  {
   "cell_type": "markdown",
   "id": "a3d8558b",
   "metadata": {},
   "source": [
    "P(H<sub>1 Hearing Loss</sub>) = 0.3"
   ]
  },
  {
   "cell_type": "markdown",
   "id": "0066abad",
   "metadata": {},
   "source": [
    "P(H<sub>1 Teinnitus</sub>)  = 0.28"
   ]
  },
  {
   "cell_type": "markdown",
   "id": "8a67edf9",
   "metadata": {},
   "source": [
    "P(H<sub>1 Vertigo</sub>) = 0.98"
   ]
  },
  {
   "cell_type": "markdown",
   "id": "11b4bdd5",
   "metadata": {},
   "source": [
    "P(H<sub>1 Vertigo</sub>) = 0.98"
   ]
  },
  {
   "cell_type": "markdown",
   "id": "04344396",
   "metadata": {},
   "source": [
    "P(D | H<sub>2</sub>) = 0.94 * 0.83 * 0.49"
   ]
  },
  {
   "cell_type": "markdown",
   "id": "751a7726",
   "metadata": {},
   "source": [
    "---"
   ]
  },
  {
   "cell_type": "markdown",
   "id": "81f09a90",
   "metadata": {},
   "source": [
    "H<sub>2</sub> = vestibular schwanoma"
   ]
  },
  {
   "cell_type": "markdown",
   "id": "b1de798a",
   "metadata": {},
   "source": [
    "P(H<sub>2 Hearing Loss</sub>) = 0.94"
   ]
  },
  {
   "cell_type": "markdown",
   "id": "42007de1",
   "metadata": {},
   "source": [
    "P(H<sub>2 Teinnitus</sub>)  = 0.83"
   ]
  },
  {
   "cell_type": "markdown",
   "id": "0e6e6b97",
   "metadata": {},
   "source": [
    "P(H<sub>2 Vertigo</sub>) = 0.49"
   ]
  },
  {
   "cell_type": "markdown",
   "id": "09a8107b",
   "metadata": {},
   "source": [
    "P(D | H<sub>1</sub>) = 0.3 * 0.28 * 0.98"
   ]
  },
  {
   "cell_type": "markdown",
   "id": "3b9e2dca",
   "metadata": {},
   "source": [
    "---"
   ]
  },
  {
   "cell_type": "markdown",
   "id": "feaa7e04",
   "metadata": {},
   "source": [
    "Bayes Factor = <sup>P(D | H<sub>1</sub>)</sup> / <sub>P(D | H<sub>2</sub>)</sub>"
   ]
  },
  {
   "cell_type": "markdown",
   "id": "cde7bfea",
   "metadata": {},
   "source": [
    "---"
   ]
  },
  {
   "cell_type": "code",
   "execution_count": 15,
   "id": "42cf49d5",
   "metadata": {},
   "outputs": [],
   "source": [
    "bayes_factor = (0.3 * 0.28 * 0.98) / (0.94 * 0.83 * 0.49)"
   ]
  },
  {
   "cell_type": "code",
   "execution_count": 16,
   "id": "1a8f5cb3",
   "metadata": {},
   "outputs": [
    {
     "data": {
      "text/plain": [
       "0.21532940271725204"
      ]
     },
     "execution_count": 16,
     "metadata": {},
     "output_type": "execute_result"
    }
   ],
   "source": [
    "bayes_factor"
   ]
  },
  {
   "cell_type": "markdown",
   "id": "51e03c4a",
   "metadata": {},
   "source": [
    "\n",
    "Prior Odds = O(H<sub>1</sub>) = <sup>P(H<sub>1</sub>)</sup> / <sub>P(H<sub>2</sub>)</sub>"
   ]
  },
  {
   "cell_type": "markdown",
   "id": "1c6326ac",
   "metadata": {},
   "source": [
    "P(H<sub>1</sub>) = 35 / 1,000,000"
   ]
  },
  {
   "cell_type": "markdown",
   "id": "2a43107d",
   "metadata": {},
   "source": [
    "P(H<sub>2</sub>) = 11 / 1,000,000"
   ]
  },
  {
   "cell_type": "code",
   "execution_count": 17,
   "id": "4fe8cacb",
   "metadata": {},
   "outputs": [],
   "source": [
    "prior_odds = (35 / 1_000_000) / (11 / 1_000_000)"
   ]
  },
  {
   "cell_type": "code",
   "execution_count": 18,
   "id": "4ac442bc",
   "metadata": {},
   "outputs": [
    {
     "data": {
      "text/plain": [
       "3.1818181818181817"
      ]
     },
     "execution_count": 18,
     "metadata": {},
     "output_type": "execute_result"
    }
   ],
   "source": [
    "prior_odds"
   ]
  },
  {
   "cell_type": "markdown",
   "id": "6ac320d0",
   "metadata": {},
   "source": [
    "Posterior Odds = Prior Odds * Bayes Factor"
   ]
  },
  {
   "cell_type": "code",
   "execution_count": 19,
   "id": "833b5187",
   "metadata": {},
   "outputs": [],
   "source": [
    "odds_of_labyrinthitis = prior_odds * bayes_factor"
   ]
  },
  {
   "cell_type": "code",
   "execution_count": 20,
   "id": "ed1ef5c5",
   "metadata": {},
   "outputs": [
    {
     "data": {
      "text/plain": [
       "0.6851390086458019"
      ]
     },
     "execution_count": 20,
     "metadata": {},
     "output_type": "execute_result"
    }
   ],
   "source": [
    "odds_of_labyrinthitis"
   ]
  },
  {
   "cell_type": "code",
   "execution_count": 13,
   "id": "70d4984c",
   "metadata": {},
   "outputs": [],
   "source": [
    "odds_of_vestibular_schwannoma = 1 / odds_of_labyrinthitis"
   ]
  },
  {
   "cell_type": "code",
   "execution_count": 21,
   "id": "5b2a9942",
   "metadata": {},
   "outputs": [
    {
     "data": {
      "text/plain": [
       "1.4595578231292514"
      ]
     },
     "execution_count": 21,
     "metadata": {},
     "output_type": "execute_result"
    }
   ],
   "source": [
    "odds_of_vestibular_schwannoma"
   ]
  },
  {
   "cell_type": "markdown",
   "id": "011551e5",
   "metadata": {},
   "source": [
    "Comparing hypothesis of having labyrinthitis against vestibular schwannoma we can see that we are 1.46 times more likely to have vestibular schwannoma"
   ]
  },
  {
   "cell_type": "code",
   "execution_count": null,
   "id": "fff84297",
   "metadata": {},
   "outputs": [],
   "source": []
  }
 ],
 "metadata": {
  "kernelspec": {
   "display_name": "Python 3 (ipykernel)",
   "language": "python",
   "name": "python3"
  },
  "language_info": {
   "codemirror_mode": {
    "name": "ipython",
    "version": 3
   },
   "file_extension": ".py",
   "mimetype": "text/x-python",
   "name": "python",
   "nbconvert_exporter": "python",
   "pygments_lexer": "ipython3",
   "version": "3.10.6"
  }
 },
 "nbformat": 4,
 "nbformat_minor": 5
}
