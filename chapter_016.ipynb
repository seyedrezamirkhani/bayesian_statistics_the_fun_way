{
 "cells": [
  {
   "cell_type": "markdown",
   "id": "92e7f255",
   "metadata": {},
   "source": [
    "# Introduction to the Bayes Factor and Posterior Odds:\n",
    "# The Completion of Ideas"
   ]
  },
  {
   "cell_type": "code",
   "execution_count": 1,
   "id": "421a7a26",
   "metadata": {},
   "outputs": [],
   "source": [
    "import pandas as pd\n",
    "import numpy as np\n",
    "from matplotlib import pyplot as plt"
   ]
  },
  {
   "cell_type": "code",
   "execution_count": 2,
   "id": "59d018cb",
   "metadata": {},
   "outputs": [],
   "source": [
    "from scipy.stats import norm, beta, uniform"
   ]
  },
  {
   "cell_type": "markdown",
   "id": "8645e551",
   "metadata": {},
   "source": [
    "# Exercise 1"
   ]
  },
  {
   "cell_type": "markdown",
   "id": "c3b000d0",
   "metadata": {},
   "source": [
    "<b>\n",
    "In the dice problem, assume your friend made a mistakeand suddenly realized that there were, in fact, two loaded dice and only one fair die. How does this change the prior, and therefore the posterior odds, for our problem?\n",
    "    \n",
    "Are you more willing to believe that the die being rolled is the loaded die?\n",
    "</b>"
   ]
  },
  {
   "cell_type": "markdown",
   "id": "58046a19",
   "metadata": {},
   "source": [
    "We have a change in the prior odds. Now:\n",
    "\n",
    "P(H<sub>1</sub>) = 2/3\n",
    "\n",
    "P(H<sub>2</sub>) = 1/3\n"
   ]
  },
  {
   "cell_type": "markdown",
   "id": "76a1f28f",
   "metadata": {},
   "source": [
    "Our pior odds becomes:\n",
    "\n",
    "O(H<sub>1</sub>) = P(H<sub>1</sub>) / P(H<sub>2</sub>) = <sup>2/3</sup> / <sub>1/3</sub> = 2"
   ]
  },
  {
   "cell_type": "markdown",
   "id": "a1669244",
   "metadata": {},
   "source": [
    "posterior odds = O(H<sub>1</sub>) * <sup>P(D|H<sub>1</sub>)</sup> / <sub>P(D|H<sub>2</sub>)</sub>"
   ]
  },
  {
   "cell_type": "code",
   "execution_count": 2,
   "id": "10ac19ce",
   "metadata": {},
   "outputs": [
    {
     "data": {
      "text/plain": [
       "7.54"
      ]
     },
     "execution_count": 2,
     "metadata": {},
     "output_type": "execute_result"
    }
   ],
   "source": [
    "2 * 3.77"
   ]
  },
  {
   "cell_type": "markdown",
   "id": "c3436f64",
   "metadata": {},
   "source": [
    "I am more willing to believe the die being rolled is a loded die. However the posterior odds are not very high, more evidence will help to make a better decision"
   ]
  },
  {
   "cell_type": "code",
   "execution_count": 3,
   "id": "1ccd8fa3",
   "metadata": {},
   "outputs": [],
   "source": [
    "# TODO: Add Exercise 2"
   ]
  },
  {
   "cell_type": "code",
   "execution_count": null,
   "id": "1f8c8a7a",
   "metadata": {},
   "outputs": [],
   "source": []
  }
 ],
 "metadata": {
  "kernelspec": {
   "display_name": "Python 3 (ipykernel)",
   "language": "python",
   "name": "python3"
  },
  "language_info": {
   "codemirror_mode": {
    "name": "ipython",
    "version": 3
   },
   "file_extension": ".py",
   "mimetype": "text/x-python",
   "name": "python",
   "nbconvert_exporter": "python",
   "pygments_lexer": "ipython3",
   "version": "3.10.6"
  }
 },
 "nbformat": 4,
 "nbformat_minor": 5
}
