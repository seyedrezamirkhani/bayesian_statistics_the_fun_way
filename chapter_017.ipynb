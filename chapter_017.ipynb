{
 "cells": [
  {
   "cell_type": "markdown",
   "id": "92e7f255",
   "metadata": {},
   "source": [
    "# Bayesian reasoning in the Twilight Zone"
   ]
  },
  {
   "cell_type": "markdown",
   "id": "27866259",
   "metadata": {},
   "source": [
    "In the special case where we have two competing hypothesis which negate each other e.g.\n",
    "\n",
    "H : Mystic Seer truely can predict the future\n",
    "\n",
    "<SPAN STYLE=\"text-decoration:overline\">H</SPAN> : The Mystic Seer just got lucky\n",
    "\n",
    "\n",
    "P(D|H) is the probability of getting n correct answers in a row is 1\n",
    "\n",
    "P(D|<SPAN STYLE=\"text-decoration:overline\">H</SPAN>) is the probability of getting n correct answers in a row is 0.5<sup>n</sup>"
   ]
  },
  {
   "cell_type": "markdown",
   "id": "1f2cdd5c",
   "metadata": {},
   "source": [
    "### Measuring the Bayes Factor\n",
    "\n",
    "BF = <sup>P(D<sub>n</sub>|H)</sup>/<sub>P(D<sub>n</sub>|<SPAN STYLE=\"text-decoration:overline\">H</SPAN>)</sub> = <sup>1</sup>/<sub>0.5<sup>n</sup></sub>"
   ]
  },
  {
   "cell_type": "markdown",
   "id": "270d4c49",
   "metadata": {},
   "source": [
    "### Prior Odds\n",
    "\n",
    "prior odds = O(H) = <sup>P(H)</sup>/<sub>P(<SPAN STYLE=\"text-decoration:overline\">H</SPAN>)</sub>"
   ]
  },
  {
   "cell_type": "markdown",
   "id": "4878803f",
   "metadata": {},
   "source": [
    "---"
   ]
  },
  {
   "cell_type": "markdown",
   "id": "8645e551",
   "metadata": {},
   "source": [
    "# Exercise 1"
   ]
  },
  {
   "cell_type": "markdown",
   "id": "c3b000d0",
   "metadata": {},
   "source": [
    "<b>\n",
    "    You flip a coin to choose who selects the movie to watch when you meet your friend every Friday.\n",
    "    Your friend always picks heads and has been right for 10 weeks.\n",
    "    You develop a hypothesis that the coin has heads for both sides.\n",
    "    Setup a Bayes factor for the hypothesis.\n",
    "\n",
    "</b>"
   ]
  },
  {
   "cell_type": "markdown",
   "id": "58046a19",
   "metadata": {},
   "source": [
    "We have a change in the prior odds. Now:\n",
    "\n",
    "BF = 1 / 0.5<sup>10</sup>"
   ]
  },
  {
   "cell_type": "code",
   "execution_count": 1,
   "id": "be95b8d3",
   "metadata": {},
   "outputs": [
    {
     "data": {
      "text/plain": [
       "1024.0"
      ]
     },
     "execution_count": 1,
     "metadata": {},
     "output_type": "execute_result"
    }
   ],
   "source": [
    "1 / 0.5**10"
   ]
  },
  {
   "cell_type": "markdown",
   "id": "b57b23eb",
   "metadata": {},
   "source": [
    "So the BF says it is 1024 times likely that the coin is a trick coin"
   ]
  },
  {
   "cell_type": "markdown",
   "id": "c8982741",
   "metadata": {},
   "source": [
    "# Exercise 2"
   ]
  },
  {
   "cell_type": "markdown",
   "id": "a334feea",
   "metadata": {},
   "source": [
    "<b>\n",
    "    Imagine three cases, your friend is:\n",
    "    <ol type=\"1\">\n",
    "        <li>a prankster</li>\n",
    "        <li>honest most of the time but can be sneaky</li>\n",
    "        <li>is trustworthy</li>\n",
    "    </ol>\n",
    "    In each case, estimate some prior odds ratios for your hypothesis and compute the posterior odds\n",
    "</b>"
   ]
  },
  {
   "cell_type": "markdown",
   "id": "a940fe4f",
   "metadata": {},
   "source": [
    "Using the Bayes Factor from the previous question i.e. 1024.0\n",
    "\n",
    "We estimate the Prior odds for each case and calculate the posterior odds\n",
    "\n",
    "<ol type=\"1\">\n",
    "    <li>Prankster: O(H<sub>1</sub>) = 10 then Posterior Odds = 10 * 1024 = 10,240</li>\n",
    "    <li>Honest most of the time: O(H<sub>1</sub>) = 1/4 then Posterior Odds = 1/4 * 1024 = 240</li>\n",
    "    <li>Trustworthy: O(H<sub>1</sub>) = 1/10,000 then Posterior Odds = 1/10,000 * 1024 &thickapprox; 1/10</li>\n",
    "</ol>"
   ]
  },
  {
   "cell_type": "markdown",
   "id": "84394db4",
   "metadata": {},
   "source": [
    "# Exercise 3"
   ]
  },
  {
   "cell_type": "markdown",
   "id": "720ac8b9",
   "metadata": {},
   "source": [
    "<b>\n",
    "    Suppose you trust this friend deeply. Make the prior odds of them cheating 1/10,000. How many times would the coin have to land on heads before you feel unsure about their innocence-say, a posterior odds of 1?\n",
    "</b>"
   ]
  },
  {
   "cell_type": "code",
   "execution_count": 10,
   "id": "f4bd8157",
   "metadata": {},
   "outputs": [
    {
     "name": "stdout",
     "output_type": "stream",
     "text": [
      "feel suspicious after 14 coin flips land heads\n"
     ]
    }
   ],
   "source": [
    "prior_odds = 1/10_000\n",
    "\n",
    "while True:\n",
    "    bayes_factor = (1/(0.5**i))\n",
    "    posterior_odds = prior_odds * bayes_factor\n",
    "    if posterior_odds > 1.0:\n",
    "        print(f'feel suspicious after {i} coin flips land heads')\n",
    "        break\n",
    "\n"
   ]
  },
  {
   "cell_type": "markdown",
   "id": "fd9bc355",
   "metadata": {},
   "source": [
    "# Exercise 4"
   ]
  },
  {
   "cell_type": "markdown",
   "id": "1976888c",
   "metadata": {},
   "source": [
    "<b>\n",
    "    Another friend of yours also hange our with this same friend and, after only four weeks of the coin landing on heads, feels certain you're both being cheated. This confidence implies a posterior odds of about 100. What value would you assign to this friend's prior belief that the first friend is a cheater?\n",
    "</b>"
   ]
  },
  {
   "cell_type": "markdown",
   "id": "d0317d32",
   "metadata": {},
   "source": [
    "\n",
    "P(D | H<sub>2</sub>) = 0.5 <sup>4</sup> = 1/16"
   ]
  },
  {
   "cell_type": "markdown",
   "id": "4868dadf",
   "metadata": {},
   "source": [
    "BF = 1 / (1/16) = 16"
   ]
  },
  {
   "cell_type": "markdown",
   "id": "e9648553",
   "metadata": {},
   "source": [
    "100 = O(H) * 16"
   ]
  },
  {
   "cell_type": "markdown",
   "id": "b7d8b9ff",
   "metadata": {},
   "source": [
    "O(H) = 100 / 16 = 6<sup>1</sup>/<sub>4</sub>"
   ]
  },
  {
   "cell_type": "code",
   "execution_count": null,
   "id": "a2809737",
   "metadata": {},
   "outputs": [],
   "source": []
  }
 ],
 "metadata": {
  "kernelspec": {
   "display_name": "Python 3 (ipykernel)",
   "language": "python",
   "name": "python3"
  },
  "language_info": {
   "codemirror_mode": {
    "name": "ipython",
    "version": 3
   },
   "file_extension": ".py",
   "mimetype": "text/x-python",
   "name": "python",
   "nbconvert_exporter": "python",
   "pygments_lexer": "ipython3",
   "version": "3.10.6"
  }
 },
 "nbformat": 4,
 "nbformat_minor": 5
}
