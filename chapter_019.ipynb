{
 "cells": [
  {
   "cell_type": "markdown",
   "id": "92e7f255",
   "metadata": {},
   "source": [
    "# From Hypothesis Testing to Parameter Estimation"
   ]
  },
  {
   "cell_type": "code",
   "execution_count": 1,
   "id": "97941a00",
   "metadata": {},
   "outputs": [],
   "source": [
    "import numpy as np\n",
    "import matplotlib.pyplot as plt"
   ]
  },
  {
   "cell_type": "markdown",
   "id": "1f2cdd5c",
   "metadata": {},
   "source": [
    "### Measuring the Bayes Factor\n",
    "\n",
    "BF = <sup>P(D<sub>n</sub>|H)</sup>/<sub>P(D<sub>n</sub>|<SPAN STYLE=\"text-decoration:overline\">H</SPAN>)</sub> = <sup>1</sup>/<sub>0.5<sup>n</sup></sub>"
   ]
  },
  {
   "cell_type": "markdown",
   "id": "270d4c49",
   "metadata": {},
   "source": [
    "### Prior Odds\n",
    "\n",
    "prior odds = O(H) = <sup>P(H)</sup>/<sub>P(<SPAN STYLE=\"text-decoration:overline\">H</SPAN>)</sub>"
   ]
  },
  {
   "cell_type": "markdown",
   "id": "c7985852",
   "metadata": {},
   "source": [
    "Notes:\n",
    "\n",
    "- Hypotheses is plural of Hopothesis\n",
    "\n",
    "- Opted for np.arange instead of np.linespace as the resulting floating points are more exact"
   ]
  },
  {
   "cell_type": "markdown",
   "id": "d8e364db",
   "metadata": {},
   "source": [
    "## Searching for More Hypothesis with Python"
   ]
  },
  {
   "cell_type": "code",
   "execution_count": 8,
   "id": "b0a3a090",
   "metadata": {},
   "outputs": [],
   "source": [
    "dx = 0.01"
   ]
  },
  {
   "cell_type": "code",
   "execution_count": 9,
   "id": "ef0cd0f1",
   "metadata": {},
   "outputs": [],
   "source": [
    "hypotheses = np.arange(0,1+dx,dx)"
   ]
  },
  {
   "cell_type": "code",
   "execution_count": 10,
   "id": "662123da",
   "metadata": {},
   "outputs": [],
   "source": [
    "def bayes_factor(h_top, h_bottom):\n",
    "    num = (h_top**24) * ((1-h_top)**76)\n",
    "    denom = (h_bottom**24) * ((1-h_bottom)**76)\n",
    "    return num/denom"
   ]
  },
  {
   "cell_type": "code",
   "execution_count": 18,
   "id": "dd4c1821",
   "metadata": {},
   "outputs": [],
   "source": [
    "bayes_factors = [bayes_factor(h, 0.5) for h in hypotheses]\n",
    "bayes_factors = np.array(bayes_factors)"
   ]
  },
  {
   "cell_type": "code",
   "execution_count": 19,
   "id": "9b898307",
   "metadata": {},
   "outputs": [
    {
     "data": {
      "text/plain": [
       "[<matplotlib.lines.Line2D at 0x7f9bac2f2200>]"
      ]
     },
     "execution_count": 19,
     "metadata": {},
     "output_type": "execute_result"
    },
    {
     "data": {
      "image/png": "[encoded data removed]",
      "text/plain": [
       "<Figure size 640x480 with 1 Axes>"
      ]
     },
     "metadata": {},
     "output_type": "display_data"
    }
   ],
   "source": [
    "plt.xlabel('Hypothesis', fontsize=12)\n",
    "plt.ylabel('Bayes Factor', fontsize=12)\n",
    "plt.plot(hypotheses, bayes_factors)"
   ]
  },
  {
   "cell_type": "markdown",
   "id": "42d119b6",
   "metadata": {},
   "source": [
    "Largest Bayes Factor"
   ]
  },
  {
   "cell_type": "code",
   "execution_count": 20,
   "id": "3e6af190",
   "metadata": {},
   "outputs": [
    {
     "data": {
      "text/plain": [
       "1478775.9567598568"
      ]
     },
     "execution_count": 20,
     "metadata": {},
     "output_type": "execute_result"
    }
   ],
   "source": [
    "max(bayes_factors)"
   ]
  },
  {
   "cell_type": "markdown",
   "id": "37523942",
   "metadata": {},
   "source": [
    "Hypothesis associated with largest Bayes Factor"
   ]
  },
  {
   "cell_type": "code",
   "execution_count": 28,
   "id": "e7742baf",
   "metadata": {},
   "outputs": [
    {
     "data": {
      "text/plain": [
       "0.24"
      ]
     },
     "execution_count": 28,
     "metadata": {},
     "output_type": "execute_result"
    }
   ],
   "source": [
    "hypotheses[np.argmax(bayes_factors)]"
   ]
  },
  {
   "cell_type": "markdown",
   "id": "4878803f",
   "metadata": {},
   "source": [
    "---"
   ]
  },
  {
   "cell_type": "markdown",
   "id": "8645e551",
   "metadata": {},
   "source": [
    "# Exercise 1"
   ]
  },
  {
   "cell_type": "markdown",
   "id": "c8982741",
   "metadata": {},
   "source": [
    "# Exercise 2"
   ]
  },
  {
   "cell_type": "markdown",
   "id": "84394db4",
   "metadata": {},
   "source": [
    "# Exercise 3"
   ]
  },
  {
   "cell_type": "markdown",
   "id": "fd9bc355",
   "metadata": {},
   "source": [
    "# Exercise 4"
   ]
  },
  {
   "cell_type": "code",
   "execution_count": null,
   "id": "a2809737",
   "metadata": {},
   "outputs": [],
   "source": []
  }
 ],
 "metadata": {
  "kernelspec": {
   "display_name": "Python 3 (ipykernel)",
   "language": "python",
   "name": "python3"
  },
  "language_info": {
   "codemirror_mode": {
    "name": "ipython",
    "version": 3
   },
   "file_extension": ".py",
   "mimetype": "text/x-python",
   "name": "python",
   "nbconvert_exporter": "python",
   "pygments_lexer": "ipython3",
   "version": "3.10.6"
  }
 },
 "nbformat": 4,
 "nbformat_minor": 5
}
