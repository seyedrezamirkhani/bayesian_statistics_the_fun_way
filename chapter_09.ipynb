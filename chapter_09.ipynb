{
 "cells": [
  {
   "cell_type": "markdown",
   "id": "92e7f255",
   "metadata": {},
   "source": [
    "# Bayesian Priors and Working with Probability Distributions"
   ]
  },
  {
   "cell_type": "code",
   "execution_count": 1,
   "id": "f3cefa29",
   "metadata": {},
   "outputs": [],
   "source": [
    "from scipy.stats import beta"
   ]
  },
  {
   "cell_type": "markdown",
   "id": "2b8b2af1",
   "metadata": {},
   "source": [
    "Beta(&alpha;<sub>posterior</sub>, &beta;<sub>posterior</sub>) = Beta(&alpha;<sub>likelihood</sub> + &alpha;<sub>prior</sub>, &beta;<sub>likelihood</sub> + &beta;<sub>prior</sub>)"
   ]
  },
  {
   "cell_type": "markdown",
   "id": "8645e551",
   "metadata": {},
   "source": [
    "# Exercise 1"
   ]
  },
  {
   "cell_type": "markdown",
   "id": "7554f8cd",
   "metadata": {},
   "source": [
    "6 heads and 1 tail"
   ]
  },
  {
   "cell_type": "markdown",
   "id": "68961521",
   "metadata": {},
   "source": [
    "p = 1/2\n",
    "\n",
    "&alpha; = 6\n",
    "\n",
    "&beta; = 1"
   ]
  },
  {
   "cell_type": "code",
   "execution_count": 2,
   "id": "ada5ff6c",
   "metadata": {},
   "outputs": [
    {
     "name": "stdout",
     "output_type": "stream",
     "text": [
      "probability the coin is fair is 4%\n"
     ]
    }
   ],
   "source": [
    "ex_p = 0.5\n",
    "ex_alpha = 6\n",
    "ex_beta = 1\n",
    "\n",
    "result = beta.cdf(x=0.6, a=ex_alpha, b=ex_beta) - beta.cdf(x=0.4, a=ex_alpha, b=ex_beta)\n",
    "\n",
    "print(\"probability the coin is fair is {0:.0%}\".format(result))"
   ]
  },
  {
   "cell_type": "markdown",
   "id": "a7d9c062",
   "metadata": {},
   "source": [
    "# Exercise 2"
   ]
  },
  {
   "cell_type": "markdown",
   "id": "0b40b164",
   "metadata": {},
   "source": [
    "Assuming a fair coin, we need to assign equal numbers to &alpha;<sub>prior</sub> and &beta;<sub>prior</sub>"
   ]
  },
  {
   "cell_type": "markdown",
   "id": "abe24f94",
   "metadata": {},
   "source": [
    "We will try a range of numbers for our prior, starting from 10 and calculate cumulative density function"
   ]
  },
  {
   "cell_type": "code",
   "execution_count": 3,
   "id": "4df1e5ca",
   "metadata": {},
   "outputs": [
    {
     "name": "stdout",
     "output_type": "stream",
     "text": [
      "prior 54, result 0.950\n"
     ]
    }
   ],
   "source": [
    "for prior in range (10,100):\n",
    "    result = beta.cdf(x=0.6, a=ex_alpha+prior, b=ex_beta+prior) - beta.cdf(x=0.4, a=ex_alpha+prior, b=ex_beta+prior)    \n",
    "    if result >= 0.95:\n",
    "        print(\"prior {}, result {:0.3f}\".format(prior, result))\n",
    "        break"
   ]
  },
  {
   "cell_type": "markdown",
   "id": "38e45b68",
   "metadata": {},
   "source": [
    "# Exercise 3"
   ]
  },
  {
   "cell_type": "markdown",
   "id": "1fc51c96",
   "metadata": {},
   "source": [
    "We use the previous prior value but increment the &alpha;<sub>likelihood</sub> from six incrementally until cumulative density function is less than 0.5"
   ]
  },
  {
   "cell_type": "code",
   "execution_count": 4,
   "id": "a4f3a7c0",
   "metadata": {},
   "outputs": [
    {
     "name": "stdout",
     "output_type": "stream",
     "text": [
      "alpha_likelihood 23, result 0.481\n"
     ]
    }
   ],
   "source": [
    "ex_prior = 54\n",
    "for alpha_likelihood in range (6,100):\n",
    "    result = beta.cdf(x=0.6, a=ex_alpha+ex_prior+alpha_likelihood, b=ex_beta+ex_prior) - beta.cdf(x=0.4, a=ex_alpha+ex_prior+alpha_likelihood, b=ex_beta+ex_prior)    \n",
    "    if result < 0.5:\n",
    "        print(\"alpha_likelihood {}, result {:0.3f}\".format(alpha_likelihood, result))\n",
    "        break"
   ]
  },
  {
   "cell_type": "code",
   "execution_count": null,
   "id": "437076a5",
   "metadata": {},
   "outputs": [],
   "source": []
  }
 ],
 "metadata": {
  "kernelspec": {
   "display_name": "Python 3 (ipykernel)",
   "language": "python",
   "name": "python3"
  },
  "language_info": {
   "codemirror_mode": {
    "name": "ipython",
    "version": 3
   },
   "file_extension": ".py",
   "mimetype": "text/x-python",
   "name": "python",
   "nbconvert_exporter": "python",
   "pygments_lexer": "ipython3",
   "version": "3.10.6"
  }
 },
 "nbformat": 4,
 "nbformat_minor": 5
}
