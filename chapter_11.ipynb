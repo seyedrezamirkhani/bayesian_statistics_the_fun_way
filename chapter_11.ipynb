{
 "cells": [
  {
   "cell_type": "markdown",
   "id": "92e7f255",
   "metadata": {},
   "source": [
    "# Measuring the Spread of Our Data"
   ]
  },
  {
   "cell_type": "code",
   "execution_count": 1,
   "id": "2fe3ac1d",
   "metadata": {},
   "outputs": [],
   "source": [
    "import math"
   ]
  },
  {
   "cell_type": "code",
   "execution_count": 2,
   "id": "421a7a26",
   "metadata": {},
   "outputs": [],
   "source": [
    "import numpy as np"
   ]
  },
  {
   "cell_type": "code",
   "execution_count": 3,
   "id": "59d018cb",
   "metadata": {},
   "outputs": [],
   "source": [
    "from scipy.stats import beta"
   ]
  },
  {
   "cell_type": "markdown",
   "id": "e375cee2",
   "metadata": {},
   "source": [
    "# Mean Absolute Deviation"
   ]
  },
  {
   "cell_type": "markdown",
   "id": "696f4552",
   "metadata": {},
   "source": [
    "$$ MAD(x) = \n",
    "\\frac{1}{n}  \\times \\sum_{i=1}^{n} \\left| x_i - {\\mu} \\right | ^ {2}\n",
    "$$"
   ]
  },
  {
   "cell_type": "markdown",
   "id": "6cf0a0c3",
   "metadata": {},
   "source": [
    "# Variance"
   ]
  },
  {
   "cell_type": "markdown",
   "id": "7ad17918",
   "metadata": {},
   "source": [
    "$$ \\sigma^{2} = \n",
    "\\frac{1}{n}  \\times \\sum_{i=1}^{n} \\left( x_i - {\\mu} \\right ) ^ {2}\n",
    "$$"
   ]
  },
  {
   "cell_type": "markdown",
   "id": "0f031b7d",
   "metadata": {},
   "source": [
    "# Standard Deviation"
   ]
  },
  {
   "cell_type": "markdown",
   "id": "72783f33",
   "metadata": {},
   "source": [
    "$$ \\sigma = \n",
    "\\sqrt{ \\frac{1}{n}  \\times \\sum_{i=1}^{n} \\left( x_i - {\\mu} \\right ) ^ {2}}\n",
    "$$"
   ]
  },
  {
   "cell_type": "markdown",
   "id": "8645e551",
   "metadata": {},
   "source": [
    "# Exercise 2"
   ]
  },
  {
   "cell_type": "markdown",
   "id": "7554f8cd",
   "metadata": {},
   "source": [
    "Calculate the mean, variance and standard deviation for the following values: 1,2,3,4,5,6,7,8,9,10."
   ]
  },
  {
   "cell_type": "code",
   "execution_count": 4,
   "id": "f6e8280b",
   "metadata": {},
   "outputs": [],
   "source": [
    "sample = [x for x in range(1,11)]"
   ]
  },
  {
   "cell_type": "markdown",
   "id": "d9eaa510",
   "metadata": {},
   "source": [
    "\n",
    "## Mean"
   ]
  },
  {
   "cell_type": "code",
   "execution_count": 5,
   "id": "9389779e",
   "metadata": {},
   "outputs": [
    {
     "name": "stdout",
     "output_type": "stream",
     "text": [
      "mean:  5.5\n"
     ]
    }
   ],
   "source": [
    "mean = sum(sample) / len(sample)\n",
    "\n",
    "print(\"mean: \", mean)"
   ]
  },
  {
   "cell_type": "markdown",
   "id": "80838cd9",
   "metadata": {},
   "source": [
    "Compare with Numpy"
   ]
  },
  {
   "cell_type": "code",
   "execution_count": 6,
   "id": "25b09e91",
   "metadata": {},
   "outputs": [
    {
     "data": {
      "text/plain": [
       "5.5"
      ]
     },
     "execution_count": 6,
     "metadata": {},
     "output_type": "execute_result"
    }
   ],
   "source": [
    "np.mean(sample)"
   ]
  },
  {
   "cell_type": "markdown",
   "id": "f7adfdfa",
   "metadata": {},
   "source": [
    "## Variance"
   ]
  },
  {
   "cell_type": "code",
   "execution_count": 7,
   "id": "9c55118c",
   "metadata": {},
   "outputs": [
    {
     "name": "stdout",
     "output_type": "stream",
     "text": [
      "variance:  8.25\n"
     ]
    }
   ],
   "source": [
    "var = 0.0\n",
    "for s in sample:\n",
    "    var += (s - mean) ** 2\n",
    "\n",
    "var *= 1 / len(sample)\n",
    "\n",
    "print(\"variance: \", var)"
   ]
  },
  {
   "cell_type": "markdown",
   "id": "eef40ab7",
   "metadata": {},
   "source": [
    "Compare with Numpy"
   ]
  },
  {
   "cell_type": "code",
   "execution_count": 8,
   "id": "58ee0b27",
   "metadata": {},
   "outputs": [
    {
     "data": {
      "text/plain": [
       "8.25"
      ]
     },
     "execution_count": 8,
     "metadata": {},
     "output_type": "execute_result"
    }
   ],
   "source": [
    "np.var(sample)"
   ]
  },
  {
   "cell_type": "markdown",
   "id": "208e44a7",
   "metadata": {},
   "source": [
    "## Standard Deviation"
   ]
  },
  {
   "cell_type": "code",
   "execution_count": 9,
   "id": "8780af80",
   "metadata": {},
   "outputs": [
    {
     "name": "stdout",
     "output_type": "stream",
     "text": [
      "standard deviation:  2.8722813232690143\n"
     ]
    }
   ],
   "source": [
    "var = 0.0\n",
    "for s in sample:\n",
    "    var += (s - mean) ** 2\n",
    "\n",
    "var *= 1 / len(sample)\n",
    "\n",
    "std = math.sqrt(var)\n",
    "\n",
    "print(\"standard deviation: \", std)"
   ]
  },
  {
   "cell_type": "markdown",
   "id": "29ae158e",
   "metadata": {},
   "source": [
    "Compare with Numpy"
   ]
  },
  {
   "cell_type": "code",
   "execution_count": 10,
   "id": "9fae1e9a",
   "metadata": {},
   "outputs": [
    {
     "data": {
      "text/plain": [
       "2.8722813232690143"
      ]
     },
     "execution_count": 10,
     "metadata": {},
     "output_type": "execute_result"
    }
   ],
   "source": [
    "np.std(sample)"
   ]
  }
 ],
 "metadata": {
  "kernelspec": {
   "display_name": "Python 3 (ipykernel)",
   "language": "python",
   "name": "python3"
  },
  "language_info": {
   "codemirror_mode": {
    "name": "ipython",
    "version": 3
   },
   "file_extension": ".py",
   "mimetype": "text/x-python",
   "name": "python",
   "nbconvert_exporter": "python",
   "pygments_lexer": "ipython3",
   "version": "3.10.6"
  }
 },
 "nbformat": 4,
 "nbformat_minor": 5
}
