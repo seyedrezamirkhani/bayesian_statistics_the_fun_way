{
 "cells": [
  {
   "cell_type": "markdown",
   "id": "92e7f255",
   "metadata": {},
   "source": [
    "# The Normal Distribution"
   ]
  },
  {
   "cell_type": "code",
   "execution_count": 1,
   "id": "421a7a26",
   "metadata": {},
   "outputs": [],
   "source": [
    "import pandas as pd\n",
    "import numpy as np"
   ]
  },
  {
   "cell_type": "code",
   "execution_count": 2,
   "id": "59d018cb",
   "metadata": {},
   "outputs": [],
   "source": [
    "from scipy.stats import norm"
   ]
  },
  {
   "cell_type": "code",
   "execution_count": 3,
   "id": "bdc0f166",
   "metadata": {},
   "outputs": [],
   "source": [
    "import matplotlib.pyplot as plt"
   ]
  },
  {
   "cell_type": "markdown",
   "id": "e375cee2",
   "metadata": {},
   "source": [
    "# Probability Density Function (PDF)"
   ]
  },
  {
   "cell_type": "markdown",
   "id": "87eaec23",
   "metadata": {},
   "source": [
    "$$ N(\\mu,\\sigma) = \n",
    "\\frac{1}{\\sqrt{2\\pi\\sigma^2}} \\times e ^ {-\\frac{(x-\\mu)^2}{2\\sigma^2}}\n",
    "$$"
   ]
  },
  {
   "cell_type": "markdown",
   "id": "9d628633",
   "metadata": {},
   "source": [
    "# Calculate probability between -inf and +inf"
   ]
  },
  {
   "cell_type": "markdown",
   "id": "1a2ce58e",
   "metadata": {},
   "source": [
    "$$\n",
    "\\int^{\\infty}_{-\\infty}N(\\mu,\\sigma)\n",
    "$$"
   ]
  },
  {
   "cell_type": "code",
   "execution_count": 4,
   "id": "7f1382d4",
   "metadata": {},
   "outputs": [],
   "source": [
    "x = [19, 22, 20, 19, 23]"
   ]
  },
  {
   "cell_type": "code",
   "execution_count": 5,
   "id": "951f53cb",
   "metadata": {},
   "outputs": [],
   "source": [
    "mean = np.mean(x)"
   ]
  },
  {
   "cell_type": "code",
   "execution_count": 6,
   "id": "eb6a3556",
   "metadata": {},
   "outputs": [],
   "source": [
    "sd = np.std(x)"
   ]
  },
  {
   "cell_type": "markdown",
   "id": "2e126036",
   "metadata": {},
   "source": [
    "Calculate the probability for the fuse to run for 18 seconds or less"
   ]
  },
  {
   "cell_type": "markdown",
   "id": "046be889",
   "metadata": {},
   "source": [
    "Instead of -infinity we will use 10 seconds as in the text"
   ]
  },
  {
   "cell_type": "markdown",
   "id": "a6d00664",
   "metadata": {},
   "source": [
    "$$\n",
    "\\int^{18}_{10}N(\\mu,\\sigma)\n",
    "$$"
   ]
  },
  {
   "cell_type": "code",
   "execution_count": 7,
   "id": "6f3f5abd",
   "metadata": {},
   "outputs": [
    {
     "data": {
      "text/plain": [
       "0.05477828835707988"
      ]
     },
     "execution_count": 7,
     "metadata": {},
     "output_type": "execute_result"
    }
   ],
   "source": [
    "# we use 10 in place of -infinity\n",
    "norm.cdf(18, loc=mean, scale=sd) - norm.cdf(10, loc=mean, scale=sd)"
   ]
  },
  {
   "cell_type": "markdown",
   "id": "8e660d24",
   "metadata": {},
   "source": [
    "Now lets use -infinity to see the difference"
   ]
  },
  {
   "cell_type": "markdown",
   "id": "46e7449c",
   "metadata": {},
   "source": [
    "$$\n",
    "\\int^{18}_{-\\infty}N(\\mu,\\sigma)\n",
    "$$"
   ]
  },
  {
   "cell_type": "code",
   "execution_count": 8,
   "id": "0dc11951",
   "metadata": {},
   "outputs": [
    {
     "data": {
      "text/plain": [
       "0.054778288391342723"
      ]
     },
     "execution_count": 8,
     "metadata": {},
     "output_type": "execute_result"
    }
   ],
   "source": [
    "norm.cdf(18, loc=mean, scale=sd) - norm.cdf(-np.inf, loc=mean, scale=sd)"
   ]
  },
  {
   "cell_type": "markdown",
   "id": "6cf0a0c3",
   "metadata": {},
   "source": [
    "# Area Under the Curve for different distances from the Mean"
   ]
  },
  {
   "cell_type": "code",
   "execution_count": 9,
   "id": "263e18d3",
   "metadata": {},
   "outputs": [],
   "source": [
    "mu = 0 # mean\n",
    "sigma = 1 # standard deviation"
   ]
  },
  {
   "cell_type": "code",
   "execution_count": 10,
   "id": "a219aa37",
   "metadata": {},
   "outputs": [],
   "source": [
    "data_l = list()\n",
    "for x in range(1,11):\n",
    "    p = norm.cdf((mu+(x*sigma)), loc=mu, scale=sigma) - norm.cdf((mu-(x*sigma)), loc=mu, scale=sigma)\n",
    "    data_l.append({'distance_from_mean': '{} sigma'.format(x), 'probability': p})\n",
    "    \n",
    "data_df = pd.DataFrame.from_records(data_l)"
   ]
  },
  {
   "cell_type": "code",
   "execution_count": 11,
   "id": "8c2d58ea",
   "metadata": {},
   "outputs": [
    {
     "data": {
      "text/html": [
       "<div>\n",
       "<style scoped>\n",
       "    .dataframe tbody tr th:only-of-type {\n",
       "        vertical-align: middle;\n",
       "    }\n",
       "\n",
       "    .dataframe tbody tr th {\n",
       "        vertical-align: top;\n",
       "    }\n",
       "\n",
       "    .dataframe thead th {\n",
       "        text-align: right;\n",
       "    }\n",
       "</style>\n",
       "<table border=\"1\" class=\"dataframe\">\n",
       "  <thead>\n",
       "    <tr style=\"text-align: right;\">\n",
       "      <th></th>\n",
       "      <th>distance_from_mean</th>\n",
       "      <th>probability</th>\n",
       "    </tr>\n",
       "  </thead>\n",
       "  <tbody>\n",
       "    <tr>\n",
       "      <th>0</th>\n",
       "      <td>1 sigma</td>\n",
       "      <td>0.682689</td>\n",
       "    </tr>\n",
       "    <tr>\n",
       "      <th>1</th>\n",
       "      <td>2 sigma</td>\n",
       "      <td>0.954500</td>\n",
       "    </tr>\n",
       "    <tr>\n",
       "      <th>2</th>\n",
       "      <td>3 sigma</td>\n",
       "      <td>0.997300</td>\n",
       "    </tr>\n",
       "    <tr>\n",
       "      <th>3</th>\n",
       "      <td>4 sigma</td>\n",
       "      <td>0.999937</td>\n",
       "    </tr>\n",
       "    <tr>\n",
       "      <th>4</th>\n",
       "      <td>5 sigma</td>\n",
       "      <td>0.999999</td>\n",
       "    </tr>\n",
       "    <tr>\n",
       "      <th>5</th>\n",
       "      <td>6 sigma</td>\n",
       "      <td>1.000000</td>\n",
       "    </tr>\n",
       "    <tr>\n",
       "      <th>6</th>\n",
       "      <td>7 sigma</td>\n",
       "      <td>1.000000</td>\n",
       "    </tr>\n",
       "    <tr>\n",
       "      <th>7</th>\n",
       "      <td>8 sigma</td>\n",
       "      <td>1.000000</td>\n",
       "    </tr>\n",
       "    <tr>\n",
       "      <th>8</th>\n",
       "      <td>9 sigma</td>\n",
       "      <td>1.000000</td>\n",
       "    </tr>\n",
       "    <tr>\n",
       "      <th>9</th>\n",
       "      <td>10 sigma</td>\n",
       "      <td>1.000000</td>\n",
       "    </tr>\n",
       "  </tbody>\n",
       "</table>\n",
       "</div>"
      ],
      "text/plain": [
       "  distance_from_mean  probability\n",
       "0            1 sigma     0.682689\n",
       "1            2 sigma     0.954500\n",
       "2            3 sigma     0.997300\n",
       "3            4 sigma     0.999937\n",
       "4            5 sigma     0.999999\n",
       "5            6 sigma     1.000000\n",
       "6            7 sigma     1.000000\n",
       "7            8 sigma     1.000000\n",
       "8            9 sigma     1.000000\n",
       "9           10 sigma     1.000000"
      ]
     },
     "execution_count": 11,
     "metadata": {},
     "output_type": "execute_result"
    }
   ],
   "source": [
    "data_df"
   ]
  },
  {
   "cell_type": "markdown",
   "id": "0f031b7d",
   "metadata": {},
   "source": [
    "# Exercise 1"
   ]
  },
  {
   "cell_type": "markdown",
   "id": "419d3fd7",
   "metadata": {},
   "source": [
    "What is the probability of observing a value five sigma greater than the mean or more?"
   ]
  },
  {
   "cell_type": "markdown",
   "id": "1406caca",
   "metadata": {},
   "source": [
    "$$\n",
    "\\int^{\\infty}_{5}N(\\mu,\\sigma)\n",
    "$$"
   ]
  },
  {
   "cell_type": "code",
   "execution_count": 12,
   "id": "6f7e45fc",
   "metadata": {},
   "outputs": [
    {
     "name": "stdout",
     "output_type": "stream",
     "text": [
      "2.866515719235352e-07\n"
     ]
    }
   ],
   "source": [
    "x = 5\n",
    "p = norm.cdf(np.inf, loc=mu, scale=sigma) - norm.cdf(5, loc=mu, scale=sigma)\n",
    "print(p)"
   ]
  },
  {
   "cell_type": "markdown",
   "id": "8645e551",
   "metadata": {},
   "source": [
    "# Exercise 2"
   ]
  },
  {
   "cell_type": "markdown",
   "id": "7554f8cd",
   "metadata": {},
   "source": [
    "A fever is any temperature greater than 100.4 degrees Farenheit. Given the following measurements, what is the probability that the patient has a fever?\n",
    "\n",
    "100.0, 99.8, 101.0, 100.5, 99.7"
   ]
  },
  {
   "cell_type": "markdown",
   "id": "d76527c6",
   "metadata": {},
   "source": [
    "$$\n",
    "\\int^{\\infty}_{100.4}N(\\mu,\\sigma)\n",
    "$$"
   ]
  },
  {
   "cell_type": "code",
   "execution_count": 13,
   "id": "f6e8280b",
   "metadata": {},
   "outputs": [],
   "source": [
    "recordings = [100.0, 99.8, 101.0, 100.5, 99.7]"
   ]
  },
  {
   "cell_type": "code",
   "execution_count": 14,
   "id": "f782be69",
   "metadata": {},
   "outputs": [
    {
     "name": "stdout",
     "output_type": "stream",
     "text": [
      "probablity of fever is 0.34 or 34%\n"
     ]
    }
   ],
   "source": [
    "mu = np.mean(recordings)\n",
    "sigma = np.std(recordings)\n",
    "\n",
    "x = 100.4\n",
    "\n",
    "p = norm.cdf(np.inf, loc=mu, scale=sigma) - norm.cdf(x, loc=mu, scale=sigma)\n",
    "\n",
    "print('probablity of fever is {:.2f} or {:.0%}'.format(p, p))"
   ]
  },
  {
   "cell_type": "markdown",
   "id": "d9eaa510",
   "metadata": {},
   "source": [
    "\n",
    "# Exercise 3"
   ]
  },
  {
   "cell_type": "markdown",
   "id": "d15e571f",
   "metadata": {},
   "source": [
    "Measuring depth of a well by coin drops results in the following values:\n",
    "\n",
    "2.5, 3.0, 3.5, 4, 2\n",
    "\n",
    "The distance an object falls can be calculated, in meters, with the following formula:\n",
    "\n",
    "$$\n",
    "distance = 1/2 \\times G \\times time ^ 2\n",
    "$$"
   ]
  },
  {
   "cell_type": "markdown",
   "id": "80838cd9",
   "metadata": {},
   "source": [
    "Where G is 9.8 m/s. What is the probability that the well is over 500 meters deep?"
   ]
  },
  {
   "cell_type": "markdown",
   "id": "54496432",
   "metadata": {},
   "source": [
    "$$\n",
    "\\int^{\\infty}_{500}N(\\mu,\\sigma)\n",
    "$$"
   ]
  },
  {
   "cell_type": "markdown",
   "id": "243a4858",
   "metadata": {},
   "source": [
    "First map recorded times to distances"
   ]
  },
  {
   "cell_type": "code",
   "execution_count": 15,
   "id": "daf45d33",
   "metadata": {},
   "outputs": [],
   "source": [
    "times = [2.5, 3.0, 3.5, 4, 2]"
   ]
  },
  {
   "cell_type": "code",
   "execution_count": 16,
   "id": "7bcd92a5",
   "metadata": {},
   "outputs": [],
   "source": [
    "def calc_distance_from_time(time):\n",
    "    G = 9.8\n",
    "    return 0.5 * G * (time**2)"
   ]
  },
  {
   "cell_type": "code",
   "execution_count": 17,
   "id": "b5e1887c",
   "metadata": {},
   "outputs": [],
   "source": [
    "distances = [calc_distance_from_time(t) for t in times]"
   ]
  },
  {
   "cell_type": "code",
   "execution_count": 18,
   "id": "fb94b084",
   "metadata": {},
   "outputs": [
    {
     "data": {
      "text/plain": [
       "[30.625000000000004, 44.1, 60.025000000000006, 78.4, 19.6]"
      ]
     },
     "execution_count": 18,
     "metadata": {},
     "output_type": "execute_result"
    }
   ],
   "source": [
    "distances"
   ]
  },
  {
   "cell_type": "markdown",
   "id": "0cf33083",
   "metadata": {},
   "source": [
    "Calculate mean and standard deviation for distances"
   ]
  },
  {
   "cell_type": "code",
   "execution_count": 19,
   "id": "cfa9a3c7",
   "metadata": {},
   "outputs": [],
   "source": [
    "mu = np.mean(distances)\n",
    "sigma = np.std(distances)\n"
   ]
  },
  {
   "cell_type": "markdown",
   "id": "df23f6c8",
   "metadata": {},
   "source": [
    "Calculate area under the curve"
   ]
  },
  {
   "cell_type": "code",
   "execution_count": 20,
   "id": "f497c01b",
   "metadata": {},
   "outputs": [],
   "source": [
    "x = 500\n",
    "p = norm.cdf(np.inf, loc=mu, scale=sigma) - norm.cdf(x, loc=mu, scale=sigma)"
   ]
  },
  {
   "cell_type": "code",
   "execution_count": 21,
   "id": "a6fac02e",
   "metadata": {},
   "outputs": [
    {
     "name": "stdout",
     "output_type": "stream",
     "text": [
      "probablity of the well being over 500 meters deep is 0.00000 or 0.00000%\n"
     ]
    }
   ],
   "source": [
    "print('probablity of the well being over 500 meters deep is {:.5f} or {:.5%}'.format(p, p))"
   ]
  },
  {
   "cell_type": "code",
   "execution_count": null,
   "id": "ff86a694",
   "metadata": {},
   "outputs": [],
   "source": []
  }
 ],
 "metadata": {
  "kernelspec": {
   "display_name": "Python 3 (ipykernel)",
   "language": "python",
   "name": "python3"
  },
  "language_info": {
   "codemirror_mode": {
    "name": "ipython",
    "version": 3
   },
   "file_extension": ".py",
   "mimetype": "text/x-python",
   "name": "python",
   "nbconvert_exporter": "python",
   "pygments_lexer": "ipython3",
   "version": "3.10.6"
  }
 },
 "nbformat": 4,
 "nbformat_minor": 5
}
