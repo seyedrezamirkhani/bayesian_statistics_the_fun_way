{
 "cells": [
  {
   "cell_type": "markdown",
   "id": "92e7f255",
   "metadata": {},
   "source": [
    "# Tools of Parameter Estimation: The PDF, CDF, and Quantile function"
   ]
  },
  {
   "cell_type": "code",
   "execution_count": 1,
   "id": "421a7a26",
   "metadata": {},
   "outputs": [],
   "source": [
    "import pandas as pd\n",
    "import numpy as np"
   ]
  },
  {
   "cell_type": "code",
   "execution_count": 2,
   "id": "59d018cb",
   "metadata": {},
   "outputs": [],
   "source": [
    "from scipy.stats import norm"
   ]
  },
  {
   "cell_type": "markdown",
   "id": "8645e551",
   "metadata": {},
   "source": [
    "# Exercise 2"
   ]
  },
  {
   "cell_type": "markdown",
   "id": "7554f8cd",
   "metadata": {},
   "source": [
    "The amount of snowfall measured, in inches, is:\n",
    "\n",
    "7.8, 9.4, 10.0, 7.9, 9.4, 7.0, 7.0, 7.1, 8.9, 7.4\n",
    "\n",
    "What is your 99.9 percent confidence interval for the true value of the snowfall?"
   ]
  },
  {
   "cell_type": "code",
   "execution_count": 3,
   "id": "f6e8280b",
   "metadata": {},
   "outputs": [],
   "source": [
    "recordings = [7.8, 9.4, 10.0, 7.9, 9.4, 7.0, 7.0, 7.1, 8.9, 7.4]"
   ]
  },
  {
   "cell_type": "code",
   "execution_count": 4,
   "id": "f782be69",
   "metadata": {},
   "outputs": [],
   "source": [
    "mu = np.mean(recordings)\n",
    "sigma = np.std(recordings)\n",
    "conf = 0.999"
   ]
  },
  {
   "cell_type": "code",
   "execution_count": 5,
   "id": "9354f590",
   "metadata": {},
   "outputs": [
    {
     "name": "stdout",
     "output_type": "stream",
     "text": [
      "lower confidence level 0.0005\n",
      "upper confidence level 0.9995\n"
     ]
    }
   ],
   "source": [
    "conf_mid = (1 - conf) / 2\n",
    "lower_conf = conf_mid\n",
    "upper_conf = 1 - conf_mid\n",
    "\n",
    "print('lower confidence level {:.4f}'.format(lower_conf))\n",
    "print('upper confidence level {:.4f}'.format(upper_conf))"
   ]
  },
  {
   "cell_type": "code",
   "execution_count": 6,
   "id": "a03a73af",
   "metadata": {},
   "outputs": [],
   "source": [
    "lowest_expected_snow_fall = norm.ppf(lower_conf, loc=mu, scale=sigma)"
   ]
  },
  {
   "cell_type": "code",
   "execution_count": 7,
   "id": "60850b25",
   "metadata": {},
   "outputs": [],
   "source": [
    "highest_expected_snow_fall = norm.ppf(upper_conf, loc=mu, scale=sigma)"
   ]
  },
  {
   "cell_type": "code",
   "execution_count": 8,
   "id": "d1cb2399",
   "metadata": {},
   "outputs": [
    {
     "name": "stdout",
     "output_type": "stream",
     "text": [
      "With 99.9% confidence, we expected the lowest amount of snow fall to be 4.65 inches and the highest amount of snow fall to be 11.73 inches\n"
     ]
    }
   ],
   "source": [
    "print('With 99.9% confidence, we expected the lowest amount of snow fall to be {:.2f} inches and the highest amount of snow fall to be {:.2f} inches'.format(\n",
    "    lowest_expected_snow_fall,\n",
    "    highest_expected_snow_fall\n",
    "))"
   ]
  },
  {
   "cell_type": "code",
   "execution_count": null,
   "id": "2c7522d3",
   "metadata": {},
   "outputs": [],
   "source": []
  }
 ],
 "metadata": {
  "kernelspec": {
   "display_name": "Python 3 (ipykernel)",
   "language": "python",
   "name": "python3"
  },
  "language_info": {
   "codemirror_mode": {
    "name": "ipython",
    "version": 3
   },
   "file_extension": ".py",
   "mimetype": "text/x-python",
   "name": "python",
   "nbconvert_exporter": "python",
   "pygments_lexer": "ipython3",
   "version": "3.10.6"
  }
 },
 "nbformat": 4,
 "nbformat_minor": 5
}
