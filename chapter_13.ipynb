{
 "cells": [
  {
   "cell_type": "markdown",
   "id": "92e7f255",
   "metadata": {},
   "source": [
    "# Tools of Parameter Estimation: The PDF, CDF, and Quantile function"
   ]
  },
  {
   "cell_type": "code",
   "execution_count": 1,
   "id": "421a7a26",
   "metadata": {},
   "outputs": [],
   "source": [
    "import pandas as pd\n",
    "import numpy as np"
   ]
  },
  {
   "cell_type": "code",
   "execution_count": 2,
   "id": "59d018cb",
   "metadata": {},
   "outputs": [],
   "source": [
    "from scipy.stats import norm, beta"
   ]
  },
  {
   "cell_type": "markdown",
   "id": "8645e551",
   "metadata": {},
   "source": [
    "# Exercise 2"
   ]
  },
  {
   "cell_type": "markdown",
   "id": "7554f8cd",
   "metadata": {},
   "source": [
    "The amount of snowfall measured, in inches, is:\n",
    "\n",
    "7.8, 9.4, 10.0, 7.9, 9.4, 7.0, 7.0, 7.1, 8.9, 7.4\n",
    "\n",
    "What is your 99.9 percent confidence interval for the true value of the snowfall?"
   ]
  },
  {
   "cell_type": "code",
   "execution_count": 3,
   "id": "f6e8280b",
   "metadata": {},
   "outputs": [],
   "source": [
    "recordings = [7.8, 9.4, 10.0, 7.9, 9.4, 7.0, 7.0, 7.1, 8.9, 7.4]"
   ]
  },
  {
   "cell_type": "code",
   "execution_count": 4,
   "id": "f782be69",
   "metadata": {},
   "outputs": [],
   "source": [
    "mu = np.mean(recordings)\n",
    "sigma = np.std(recordings)\n",
    "conf = 0.999"
   ]
  },
  {
   "cell_type": "code",
   "execution_count": 5,
   "id": "9354f590",
   "metadata": {},
   "outputs": [
    {
     "name": "stdout",
     "output_type": "stream",
     "text": [
      "lower confidence level 0.0005\n",
      "upper confidence level 0.9995\n"
     ]
    }
   ],
   "source": [
    "conf_mid = (1 - conf) / 2\n",
    "lower_conf = conf_mid\n",
    "upper_conf = 1 - conf_mid\n",
    "\n",
    "print('lower confidence level {:.4f}'.format(lower_conf))\n",
    "print('upper confidence level {:.4f}'.format(upper_conf))"
   ]
  },
  {
   "cell_type": "code",
   "execution_count": 6,
   "id": "a03a73af",
   "metadata": {},
   "outputs": [],
   "source": [
    "lowest_expected_snow_fall = norm.ppf(lower_conf, loc=mu, scale=sigma)"
   ]
  },
  {
   "cell_type": "code",
   "execution_count": 7,
   "id": "60850b25",
   "metadata": {},
   "outputs": [],
   "source": [
    "highest_expected_snow_fall = norm.ppf(upper_conf, loc=mu, scale=sigma)"
   ]
  },
  {
   "cell_type": "code",
   "execution_count": 8,
   "id": "d1cb2399",
   "metadata": {},
   "outputs": [
    {
     "name": "stdout",
     "output_type": "stream",
     "text": [
      "With 99.9% confidence, we expected the lowest amount of snow fall to be 4.65 inches and the highest amount of snow fall to be 11.73 inches\n"
     ]
    }
   ],
   "source": [
    "print('With 99.9% confidence, we expected the lowest amount of snow fall to be {:.2f} inches and the highest amount of snow fall to be {:.2f} inches'.format(\n",
    "    lowest_expected_snow_fall,\n",
    "    highest_expected_snow_fall\n",
    "))"
   ]
  },
  {
   "cell_type": "markdown",
   "id": "adb426a0",
   "metadata": {},
   "source": [
    "# Exercise 3"
   ]
  },
  {
   "cell_type": "markdown",
   "id": "2382de60",
   "metadata": {},
   "source": [
    "A child is going door to door selling candy bars. So far she has visited 30 houses and sold 10 candy bars. She will visit 40 more houses today. What is the 95 percent confidence interval for how many candy bars she will sell the rest of the day?"
   ]
  },
  {
   "cell_type": "code",
   "execution_count": 9,
   "id": "47ac0912",
   "metadata": {},
   "outputs": [],
   "source": [
    "q_alpha = 10\n",
    "q_beta = 20\n",
    "conf = 0.95"
   ]
  },
  {
   "cell_type": "code",
   "execution_count": 10,
   "id": "4c6fca5e",
   "metadata": {},
   "outputs": [
    {
     "name": "stdout",
     "output_type": "stream",
     "text": [
      "lower confidence level 0.0250\n",
      "upper confidence level 0.9750\n"
     ]
    }
   ],
   "source": [
    "conf_mid = (1 - conf) / 2\n",
    "lower_conf = conf_mid\n",
    "upper_conf = 1 - conf_mid\n",
    "\n",
    "print('lower confidence level {:.4f}'.format(lower_conf))\n",
    "print('upper confidence level {:.4f}'.format(upper_conf))"
   ]
  },
  {
   "cell_type": "code",
   "execution_count": 11,
   "id": "ad8f04e2",
   "metadata": {},
   "outputs": [],
   "source": [
    "lowest_expected_sale_prob = beta.ppf(lower_conf, a=q_alpha, b=q_beta)"
   ]
  },
  {
   "cell_type": "code",
   "execution_count": 12,
   "id": "c5f48ddd",
   "metadata": {},
   "outputs": [],
   "source": [
    "highest_expected_sale_prob = beta.ppf(upper_conf, a=q_alpha, b=q_beta)"
   ]
  },
  {
   "cell_type": "code",
   "execution_count": 13,
   "id": "43a6f411",
   "metadata": {},
   "outputs": [],
   "source": [
    "total_no_houses = 40"
   ]
  },
  {
   "cell_type": "code",
   "execution_count": 14,
   "id": "2d44ef9c",
   "metadata": {},
   "outputs": [],
   "source": [
    "lowest_no_candy_sold = int(total_no_houses * lowest_expected_sale_prob)"
   ]
  },
  {
   "cell_type": "code",
   "execution_count": 15,
   "id": "c8cf65ec",
   "metadata": {},
   "outputs": [],
   "source": [
    "highest_no_candy_sold = int(total_no_houses * highest_expected_sale_prob)"
   ]
  },
  {
   "cell_type": "code",
   "execution_count": 16,
   "id": "1a3e1f21",
   "metadata": {},
   "outputs": [
    {
     "name": "stdout",
     "output_type": "stream",
     "text": [
      "We expect a minimum of 7 and a maximum of 20 candy bars to be sold for the next 40 houses.\n"
     ]
    }
   ],
   "source": [
    "print(f'We expect a minimum of {lowest_no_candy_sold} '\\\n",
    "      f'and a maximum of {highest_no_candy_sold} ' \\\n",
    "      'candy bars to be sold for the next 40 houses.')"
   ]
  },
  {
   "cell_type": "code",
   "execution_count": null,
   "id": "c7e35ab0",
   "metadata": {},
   "outputs": [],
   "source": []
  }
 ],
 "metadata": {
  "kernelspec": {
   "display_name": "Python 3 (ipykernel)",
   "language": "python",
   "name": "python3"
  },
  "language_info": {
   "codemirror_mode": {
    "name": "ipython",
    "version": 3
   },
   "file_extension": ".py",
   "mimetype": "text/x-python",
   "name": "python",
   "nbconvert_exporter": "python",
   "pygments_lexer": "ipython3",
   "version": "3.10.6"
  }
 },
 "nbformat": 4,
 "nbformat_minor": 5
}
